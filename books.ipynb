{
 "cells": [
  {
   "cell_type": "markdown",
   "id": "1c432798",
   "metadata": {},
   "source": [
    "# Books loading and data exploration\n",
    "\n",
    "Exercise for reading, loading into a database and exploring books from our private library. \n",
    "\n",
    "We don't use any software or app for storing our books at home, but we do have them recorded using a predefined format, intended for easily loading the books data, something neither I or my husband did so far. Here's how a book data file looks like:\n",
    "\n",
    "```\n",
    "type=book\n",
    "subtype=nonfiction\n",
    "subtype=fiction\n",
    "\n",
    "title=There Are No Electrons\n",
    "subtitle=Electronics for Earthlings\n",
    "author=Kenn Amdahl\n",
    "alt_author=Kenneth Amdahl\n",
    "publisher=Clearwater Publishing\n",
    "year=1998\n",
    "year_first_publication=1991\n",
    "num_pages=322\n",
    "\n",
    "isbn=0-9627815-9-2\n",
    "lang=en_US\n",
    "\n",
    "keyword=Electronics\n",
    "keyword=Jargon\n",
    "keyword=Static Electricity\n",
    "...\n",
    "```\n",
    "\n",
    "This notebook is a first attempt of doing this data loading, for the simple pleasure of exploring a dataset of things I really love. 📚 ❤️"
   ]
  },
  {
   "cell_type": "code",
   "execution_count": 11,
   "id": "935ce03a",
   "metadata": {
    "scrolled": false
   },
   "outputs": [
    {
     "name": "stdout",
     "output_type": "stream",
     "text": [
      "First 10 books read: txt\\A\\Actions_Speak.book, txt\\A\\Allan_Kardec.book, txt\\A\\Armazem_do_Folclore.book, txt\\A\\Assim_tudo_comecou.book, txt\\A\\As_dobraduras_de_Papelino.book, txt\\A\\A_Arte_Naif_no_Brasil.book, txt\\A\\A_Divina_Comedia-Inferno.book, txt\\A\\A_Divina_Comedia-Paraiso.book, txt\\A\\A_Divina_Comedia-Purgatorio.book\n"
     ]
    }
   ],
   "source": [
    "import glob\n",
    "\n",
    "book_list = glob.glob('txt/**/*.book', recursive=True)\n",
    "\n",
    "print ('First 10 books read:', ', '.join(book_list[:9]))"
   ]
  },
  {
   "cell_type": "markdown",
   "id": "148530f4",
   "metadata": {},
   "source": [
    "Most are utf-8, but not all of them."
   ]
  },
  {
   "cell_type": "code",
   "execution_count": 19,
   "id": "f8b54225",
   "metadata": {},
   "outputs": [
    {
     "name": "stdout",
     "output_type": "stream",
     "text": [
      "{'utf-8': 954, 'cp1252': 13}\n"
     ]
    }
   ],
   "source": [
    "books_encoding = {}\n",
    "books_encoding['utf-8'] = 0\n",
    "books_encoding['cp1252'] = 0\n",
    "\n",
    "for book in book_list:\n",
    "    try:\n",
    "        with open(book, 'r', encoding='utf-8') as bookfile:\n",
    "            content = bookfile.readlines()\n",
    "            books_encoding['utf-8'] = books_encoding['utf-8'] + 1\n",
    "    except UnicodeDecodeError:\n",
    "        try:\n",
    "            with open(book, 'r', encoding='cp1252') as bookfile:\n",
    "                content = bookfile.readlines()\n",
    "                books_encoding['cp1252'] = books_encoding['cp1252'] + 1\n",
    "        except Exception:\n",
    "            with open(book, 'r') as bookfile:\n",
    "                content = bookfile.readlines()\n",
    "                if (bookfile.encoding in books_encoding):\n",
    "                    books_encoding[bookfile.encoding] = books_encoding[bookfile.encoding] + 1\n",
    "                else:\n",
    "                    books_encoding[bookfile.encoding] = 1\n",
    "\n",
    "print (books_encoding)"
   ]
  },
  {
   "cell_type": "markdown",
   "id": "326aa84c",
   "metadata": {},
   "source": [
    "And a few require some wrangling, which I'll do in the original files --"
   ]
  },
  {
   "cell_type": "code",
   "execution_count": 45,
   "id": "189f0be6",
   "metadata": {},
   "outputs": [
    {
     "name": "stdout",
     "output_type": "stream",
     "text": [
      "*** Incorrect property setting (no equals sign): txt\\A\\O_Alienista.book - Line:  subtypefiction\n",
      "*** Incorrect property setting formatting (double equals sign): txt\\C\\Antologia_do_Folclore_Brasileiro-Vol_1.book - Line:  keyword==Salamancas\n",
      "*** Incorrect property setting formatting (double equals sign): txt\\M\\Ruido_Blanco_6.book - Line:  series=series=Ruido Blanco\n",
      "*** Incorrect property setting formatting (double equals sign): txt\\W\\Nao_entendo_muito_de_vinho_mas_sei_do_que_gosto.book - Line:  <=== fix this! subtype=nonfiction fiction poetry dictionary textbook biography handbook cookbook guidebook travelogue manual comics photobook drawing grammar puzzle scripture proceedings gamebook\n"
     ]
    }
   ],
   "source": [
    "def process_line(line):\n",
    "    book_properties = {}\n",
    "    if (line.strip() > ''): \n",
    "        if '=' in line:\n",
    "            try:\n",
    "                prop_name, prop_value = line.split('=')\n",
    "                book_properties[prop_name.strip()] = prop_value.strip()\n",
    "            except ValueError:\n",
    "                print ('*** Incorrect property setting formatting (double equals sign):', book, \"- Line: \", line.strip())\n",
    "        else:\n",
    "            print ('*** Incorrect property setting (no equals sign):', book, \"- Line: \", line.strip())\n",
    "    return book_properties\n",
    "\n",
    "all_books = {}\n",
    "for book in book_list:\n",
    "    all_books[book] = []\n",
    "    try:\n",
    "        with open(book, 'r', encoding='utf-8-sig') as bookfile:\n",
    "            content = bookfile.readlines()\n",
    "            book_property = {}\n",
    "            for line in content:\n",
    "                book_property = process_line(line)\n",
    "                if (len(book_property) > 0):\n",
    "                    all_books[book].append(book_property)\n",
    "    except UnicodeDecodeError:\n",
    "        try:\n",
    "            with open(book, 'r', encoding='cp1252') as bookfile:\n",
    "                content = bookfile.readlines()\n",
    "                book_property = {}\n",
    "                for line in content:\n",
    "                    book_property = process_line(line)\n",
    "                    if (len(book_property) > 0):\n",
    "                        all_books[book].append(book_property)\n",
    "        except Exception:\n",
    "            print (\"File couldn't be parsed:\", book, \" - Encoding: \", bookfile.encoding)"
   ]
  },
  {
   "cell_type": "markdown",
   "id": "98c52742",
   "metadata": {},
   "source": [
    "Reloading books, after fixing the errors above."
   ]
  },
  {
   "cell_type": "code",
   "execution_count": 66,
   "id": "b67734d4",
   "metadata": {},
   "outputs": [
    {
     "name": "stdout",
     "output_type": "stream",
     "text": [
      "969\n"
     ]
    }
   ],
   "source": [
    "import glob\n",
    "\n",
    "\n",
    "def process_line(line):\n",
    "    book_properties = {}\n",
    "    if (line.strip() > ''): \n",
    "        if '=' in line:\n",
    "            try:\n",
    "                prop_name, prop_value = line.split('=')\n",
    "                book_properties[prop_name.strip()] = prop_value.strip()\n",
    "            except ValueError:\n",
    "                print ('*** Incorrect property setting formatting (double equals sign):', book, \"- Line: \", line.strip())\n",
    "        else:\n",
    "            print ('*** Incorrect property setting (no equals sign):', book, \"- Line: \", line.strip())\n",
    "    return book_properties\n",
    "\n",
    "\n",
    "book_list = glob.glob('txt/**/*.book', recursive=True)\n",
    "\n",
    "all_books = {}\n",
    "for book in book_list:\n",
    "    all_books[book] = []\n",
    "    try:\n",
    "        with open(book, 'r', encoding='utf-8-sig') as bookfile:\n",
    "            content = bookfile.readlines()\n",
    "            book_property = {}\n",
    "            for line in content:\n",
    "                book_property = process_line(line)\n",
    "                if (len(book_property) > 0):\n",
    "                    all_books[book].append(book_property)\n",
    "    except UnicodeDecodeError:\n",
    "        try:\n",
    "            with open(book, 'r', encoding='cp1252') as bookfile:\n",
    "                content = bookfile.readlines()\n",
    "                book_property = {}\n",
    "                for line in content:\n",
    "                    book_property = process_line(line)\n",
    "                    if (len(book_property) > 0):\n",
    "                        all_books[book].append(book_property)\n",
    "        except Exception:\n",
    "            print (\"File couldn't be parsed:\", book, \" - Encoding: \", bookfile.encoding)\n",
    "            \n",
    "print (len(all_books))"
   ]
  },
  {
   "cell_type": "markdown",
   "id": "2a05844e",
   "metadata": {},
   "source": [
    "How about the encodings now, with the new dataset?"
   ]
  },
  {
   "cell_type": "code",
   "execution_count": 7,
   "id": "70e82cce",
   "metadata": {},
   "outputs": [
    {
     "name": "stdout",
     "output_type": "stream",
     "text": [
      "{'utf-8': 956, 'cp1252': 13}\n"
     ]
    }
   ],
   "source": [
    "books_encoding = {}\n",
    "books_encoding['utf-8'] = 0\n",
    "books_encoding['cp1252'] = 0\n",
    "\n",
    "for book in book_list:\n",
    "    try:\n",
    "        with open(book, 'r', encoding='utf-8') as bookfile:\n",
    "            content = bookfile.readlines()\n",
    "            books_encoding['utf-8'] = books_encoding['utf-8'] + 1\n",
    "    except UnicodeDecodeError:\n",
    "        try:\n",
    "            with open(book, 'r', encoding='cp1252') as bookfile:\n",
    "                content = bookfile.readlines()\n",
    "                books_encoding['cp1252'] = books_encoding['cp1252'] + 1\n",
    "        except Exception:\n",
    "            with open(book, 'r') as bookfile:\n",
    "                content = bookfile.readlines()\n",
    "                if (bookfile.encoding in books_encoding):\n",
    "                    books_encoding[bookfile.encoding] = books_encoding[bookfile.encoding] + 1\n",
    "                else:\n",
    "                    books_encoding[bookfile.encoding] = 1\n",
    "\n",
    "print (books_encoding)"
   ]
  },
  {
   "cell_type": "markdown",
   "id": "b0e2df6a",
   "metadata": {},
   "source": [
    "Checking some book samples."
   ]
  },
  {
   "cell_type": "code",
   "execution_count": 69,
   "id": "871ec6a3",
   "metadata": {},
   "outputs": [
    {
     "name": "stdout",
     "output_type": "stream",
     "text": [
      "['txt\\\\A\\\\Actions_Speak.book', 'txt\\\\A\\\\Allan_Kardec.book', 'txt\\\\A\\\\Armazem_do_Folclore.book', 'txt\\\\A\\\\Assim_tudo_comecou.book', 'txt\\\\A\\\\As_dobraduras_de_Papelino.book', 'txt\\\\A\\\\A_Arte_Naif_no_Brasil.book', 'txt\\\\A\\\\A_Divina_Comedia-Inferno.book', 'txt\\\\A\\\\A_Divina_Comedia-Paraiso.book', 'txt\\\\A\\\\A_Divina_Comedia-Purgatorio.book']\n"
     ]
    }
   ],
   "source": [
    "print (list(all_books.keys())[:9])"
   ]
  },
  {
   "cell_type": "code",
   "execution_count": 70,
   "id": "766adbd9",
   "metadata": {},
   "outputs": [
    {
     "name": "stdout",
     "output_type": "stream",
     "text": [
      "[{'type': 'book'}, {'subtype': 'fiction'}, {'subtype': 'poetry'}, {'title': 'A Divina Comédia'}, {'volume': 'Paraíso'}, {'author': 'Dante Alighieri'}, {'translator': 'Italo Eugenio Mauro'}, {'publisher': 'Editora 34'}, {'year': '1998'}, {'year_first_publication': '1330'}, {'num_pages': '239'}, {'isbn': '85-7326-120-X'}, {'isbn': '85-7326-123-4'}, {'lang': 'pt'}, {'lang': 'it'}, {'original_lang': 'it'}, {'original_title': 'La Divina Commedia'}, {'original_volume': 'Paradiso'}, {'keyword': 'Paradise'}, {'keyword': 'Heaven'}, {'keyword': 'Spheres of Heaven'}, {'keyword': 'Primum Mobile'}, {'keyword': 'Empyrean'}, {'keyword': 'God'}, {'keyword': 'Medieval Allegories'}, {'keyword': 'Dante Alighieri'}, {'keyword': 'Durante degli Alighieri'}, {'keyword': 'Beatrice'}, {'keyword': 'Beatrice Portinari'}]\n"
     ]
    }
   ],
   "source": [
    "print (all_books['txt\\\\A\\\\A_Divina_Comedia-Paraiso.book'])"
   ]
  },
  {
   "cell_type": "code",
   "execution_count": 71,
   "id": "2b90e8ee",
   "metadata": {},
   "outputs": [
    {
     "name": "stdout",
     "output_type": "stream",
     "text": [
      "[{'type': 'book'}, {'subtype': 'nonfiction'}, {'subtype': 'artbook'}, {'title': 'A Arte Naif no Brasil'}, {'editor': 'Jacques Ardies'}, {'editor': 'Geraldo Edson de Andrade'}, {'contributor': 'Adelson do Prado'}, {'contributor': 'Agostinho Batista de Freitas'}, {'contributor': 'Alba Cavalcanti'}, {'contributor': 'Aloísio'}, {'contributor': 'Ana Maria Dias'}, {'contributor': 'Antonio de Olinda'}, {'contributor': 'Antonio Poteiro'}, {'contributor': 'Aparecida Azedo'}, {'contributor': 'Barbara Rochlitz'}, {'contributor': 'Cardosinho'}, {'contributor': 'Carlos Lousada'}, {'contributor': 'Celeste Bravo'}, {'contributor': 'Chico da Silva'}, {'contributor': 'Constância Nery'}, {'contributor': 'Crisaldo Morais'}, {'contributor': 'Dalvan'}, {'contributor': 'Dila'}, {'contributor': 'Dótoli'}, {'contributor': 'Doval'}, {'contributor': 'Edgar Calhado'}, {'contributor': 'Edivaldo'}, {'contributor': 'Edson Lima'}, {'contributor': 'Elisa Martins da Silveira'}, {'contributor': 'Elza O.S.'}, {'contributor': 'Emygdio de Souza'}, {'contributor': 'Ernani Pavaneli'}, {'contributor': 'Euridyce'}, {'contributor': 'Ferreira'}, {'contributor': 'Francisco Severino'}, {'contributor': 'Gerson'}, {'contributor': 'Gilvan'}, {'contributor': 'Grauben'}, {'contributor': 'Heitor dos Prazeres'}, {'contributor': 'Helena Coelho'}, {'contributor': 'Helenos'}, {'contributor': 'Henry Vitor'}, {'contributor': 'Iaponí Araújo'}, {'contributor': 'Ignácio da Nega'}, {'contributor': 'Isabel de Jesus'}, {'contributor': 'Ivan Moraes'}, {'contributor': 'Ivonaldo'}, {'contributor': 'José Antonio da Silva'}, {'contributor': 'J. Coimbra'}, {'contributor': 'José de Freitas'}, {'contributor': 'José Sabóia'}, {'contributor': 'Juca'}, {'contributor': 'Juçara'}, {'contributor': 'Júlio Martins da Silva'}, {'contributor': ''}, {'contributor': 'Kleber Figueira'}, {'contributor': 'Lia Mittarakis'}, {'contributor': 'Lucia Buccini'}, {'contributor': 'Luiz Cassemiro'}, {'contributor': 'Madeleine Colaço'}, {'contributor': 'M. Zawadzka'}, {'contributor': 'Maria Auxiliadora'}, {'contributor': 'Maria Guadalupe'}, {'contributor': 'Miranda'}, {'contributor': 'Mirian'}, {'contributor': 'Nelson Porto'}, {'contributor': 'Neuton de Andrade'}, {'contributor': 'Paulina Eizirik'}, {'contributor': 'Paulo Pedroso Leal'}, {'contributor': 'Ranchinho'}, {'contributor': 'Reginaldo Miranda'}, {'contributor': 'Rodolpho Tamanini Netto'}, {'contributor': 'Rosina Becker do Valle'}, {'contributor': 'Sílvia'}, {'contributor': 'Sônia Furtado'}, {'contributor': 'Tavares'}, {'contributor': 'Teles'}, {'contributor': 'Tercilia'}, {'contributor': 'Vaine Ayres Leite'}, {'contributor': 'Vatenor'}, {'contributor': 'Waldemar de Andrade'}, {'contributor': 'Waldomiro de Deus'}, {'contributor': 'Wilma Ramos'}, {'contributor': 'Zé Cordeiro'}, {'publisher': 'Empresa das Artes'}, {'year': '1998'}, {'num_pages': '245'}, {'isbn': '85-85628-37-5'}, {'dewey_decimal_class': '759.981'}, {'universal_decimal_class': ''}, {'lang': 'pt_BR'}, {'keyword': 'Naïve Art'}, {'keyword': 'Brazil'}, {'keyword': '20th Century'}, {'keyword': 'Fine Arts'}, {'keyword': 'Popular Art'}, {'keyword': 'Painting'}]\n"
     ]
    }
   ],
   "source": [
    "print (all_books['txt\\\\A\\\\A_Arte_Naif_no_Brasil.book'])"
   ]
  },
  {
   "cell_type": "markdown",
   "id": "a9636ff0",
   "metadata": {},
   "source": [
    "Storing the data in SQL, still using the key-value structure. "
   ]
  },
  {
   "cell_type": "code",
   "execution_count": 64,
   "id": "3966d94a",
   "metadata": {},
   "outputs": [
    {
     "name": "stdout",
     "output_type": "stream",
     "text": [
      "Starting: 2021-08-02 14:48:44.472318\n",
      ".........................................................................................................................................................................................................................................................................................................................................................................................................................................................................................................................................................................................................................................................................................................................................................................................................................................................................................................................................................................................................Finished: 2021-08-02 15:02:12.960550\n"
     ]
    }
   ],
   "source": [
    "import sqlite3\n",
    "\n",
    "from datetime import datetime\n",
    "\n",
    "now = datetime.now()\n",
    "print ('Starting:', now)\n",
    "\n",
    "conn = sqlite3.connect('D:\\\\DB\\\\sqlite\\\\books.db')\n",
    "cursor = conn.cursor()\n",
    "cursor.execute('delete from item')\n",
    "conn.commit()\n",
    "cursor.execute('delete from item_property')\n",
    "conn.commit()\n",
    "\n",
    "for bookfile in all_books:\n",
    "    ins_item_cmd = 'insert into item (filename) values (?)'\n",
    "    cursor.execute(ins_item_cmd, (bookfile.strip(),))\n",
    "    #print (ins_item_cmd, '---', bookfile.strip())\n",
    "    print ('.', end='')\n",
    "    conn.commit()\n",
    "    cursor.execute('select last_insert_rowid()')\n",
    "    item_id = cursor.fetchall()[0][0]\n",
    "    \n",
    "    for prop_dict in all_books[bookfile]:\n",
    "        for prop in prop_dict:\n",
    "            ins_prop_cmd = 'insert into item_property (item_id, property, value) values (?, ?, ?)'\n",
    "            prop_tuple = (item_id, prop, prop_dict[prop],)\n",
    "            cursor.execute(ins_prop_cmd, prop_tuple)\n",
    "            #print (ins_prop_cmd, '---', prop_tuple)\n",
    "            conn.commit()            \n",
    "\n",
    "conn.close()\n",
    "\n",
    "now = datetime.now()\n",
    "print ('Finished:', now)"
   ]
  }
 ],
 "metadata": {
  "kernelspec": {
   "display_name": "Python 3",
   "language": "python",
   "name": "python3"
  },
  "language_info": {
   "codemirror_mode": {
    "name": "ipython",
    "version": 3
   },
   "file_extension": ".py",
   "mimetype": "text/x-python",
   "name": "python",
   "nbconvert_exporter": "python",
   "pygments_lexer": "ipython3",
   "version": "3.8.8"
  }
 },
 "nbformat": 4,
 "nbformat_minor": 5
}
