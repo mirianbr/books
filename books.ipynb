{
 "cells": [
  {
   "cell_type": "markdown",
   "id": "1c432798",
   "metadata": {},
   "source": [
    "# Books loading and data exploration\n",
    "\n",
    "Exercise for reading, loading into a database and exploring books from our private library. \n",
    "\n",
    "We don't use any software or app for storing our books at home, but we do have them recorded using a predefined format, intended for easily loading the books data, something neither I or my husband did so far. Here's how a book data file looks like:\n",
    "\n",
    "```\n",
    "type=book\n",
    "subtype=nonfiction\n",
    "subtype=fiction\n",
    "\n",
    "title=There Are No Electrons\n",
    "subtitle=Electronics for Earthlings\n",
    "author=Kenn Amdahl\n",
    "alt_author=Kenneth Amdahl\n",
    "publisher=Clearwater Publishing\n",
    "year=1998\n",
    "year_first_publication=1991\n",
    "num_pages=322\n",
    "\n",
    "isbn=0-9627815-9-2\n",
    "lang=en_US\n",
    "\n",
    "keyword=Electronics\n",
    "keyword=Jargon\n",
    "keyword=Static Electricity\n",
    "...\n",
    "```\n",
    "\n",
    "This notebook is a first attempt of doing this data loading, for the simple pleasure of exploring a dataset of things I really love. 📚 ❤️"
   ]
  },
  {
   "cell_type": "code",
   "execution_count": 22,
   "id": "935ce03a",
   "metadata": {
    "scrolled": false
   },
   "outputs": [
    {
     "name": "stdout",
     "output_type": "stream",
     "text": [
      "First 10 books read: txt\\A\\Actions_Speak.book, txt\\A\\Allan_Kardec.book, txt\\A\\Armazem_do_Folclore.book, txt\\A\\Assim_tudo_comecou.book, txt\\A\\As_dobraduras_de_Papelino.book, txt\\A\\A_Arte_Naif_no_Brasil.book, txt\\A\\A_Divina_Comedia-Inferno.book, txt\\A\\A_Divina_Comedia-Paraiso.book, txt\\A\\A_Divina_Comedia-Purgatorio.book\n"
     ]
    }
   ],
   "source": [
    "import glob\n",
    "\n",
    "book_list = glob.glob('txt/**/*.book', recursive=True)\n",
    "\n",
    "print ('First 10 books read:', ', '.join(book_list[:9]))"
   ]
  },
  {
   "cell_type": "code",
   "execution_count": 23,
   "id": "1ab5ee88",
   "metadata": {},
   "outputs": [
    {
     "name": "stdout",
     "output_type": "stream",
     "text": [
      "['A-47', 'B-54', 'C-106', 'D-32', 'E-14', 'F-40', 'G-52', 'H-32', 'I-4', 'J-21', 'K-64', 'L-60', 'M-79', 'N-20', 'O-16', 'P-48', 'Q-7', 'R-38', 'S-92', 'T-26', 'V-37', 'W-18', 'Y-4', 'Z-5', '_-71']\n"
     ]
    }
   ],
   "source": [
    "# There is a difference of 1 file; trying to find where it is\n",
    "\n",
    "per_letter = {}\n",
    "for book in book_list:\n",
    "    letter = book[4:5]\n",
    "    if (letter not in per_letter):\n",
    "        per_letter[letter] = []\n",
    "    per_letter[letter].append(book)\n",
    "\n",
    "print (list(letter+'-'+str(len(per_letter[letter])) for letter in per_letter))"
   ]
  },
  {
   "cell_type": "code",
   "execution_count": 28,
   "id": "7cdcb86f",
   "metadata": {
    "scrolled": true
   },
   "outputs": [
    {
     "name": "stdout",
     "output_type": "stream",
     "text": [
      "['txt\\\\Q\\\\Cuentos_de_amor_de_locura_y_de_muerte.book', 'txt\\\\Q\\\\El_salvaje.book', 'txt\\\\Q\\\\O_Livro_Verde.book', 'txt\\\\Q\\\\Quintana_de_bolso.book', 'txt\\\\Q\\\\The_Versailles_Restaurant_Cookbook.book', 'txt\\\\Q\\\\Toda_Mafalda-17a_Ed.book', 'txt\\\\Q\\\\Yo_No_Fui-8a_Ed.book']\n"
     ]
    }
   ],
   "source": [
    "# In Q folder\n",
    "\n",
    "print (per_letter['Q'])\n",
    "\n",
    "# There is a ...E no oitavo dia.book file, that glob is taking as a hidden one."
   ]
  },
  {
   "cell_type": "code",
   "execution_count": 29,
   "id": "ea25b56b",
   "metadata": {},
   "outputs": [
    {
     "name": "stdout",
     "output_type": "stream",
     "text": [
      "988\n"
     ]
    }
   ],
   "source": [
    "# With two globs I may be able to retrieve them all, though.\n",
    "\n",
    "book_list = glob.glob('txt/**/*.book', recursive=True)\n",
    "book_list.extend(glob.glob('txt/**/.*.book', recursive=True))\n",
    "\n",
    "print (len(book_list))"
   ]
  },
  {
   "cell_type": "markdown",
   "id": "148530f4",
   "metadata": {},
   "source": [
    "Most are utf-8, but not all of them."
   ]
  },
  {
   "cell_type": "code",
   "execution_count": 30,
   "id": "f8b54225",
   "metadata": {},
   "outputs": [
    {
     "name": "stdout",
     "output_type": "stream",
     "text": [
      "{'utf-8': 975, 'cp1252': 13}\n"
     ]
    }
   ],
   "source": [
    "books_encoding = {}\n",
    "books_encoding['utf-8'] = 0\n",
    "books_encoding['cp1252'] = 0\n",
    "\n",
    "for book in book_list:\n",
    "    try:\n",
    "        with open(book, 'r', encoding='utf-8') as bookfile:\n",
    "            content = bookfile.readlines()\n",
    "            books_encoding['utf-8'] = books_encoding['utf-8'] + 1\n",
    "    except UnicodeDecodeError:\n",
    "        try:\n",
    "            with open(book, 'r', encoding='cp1252') as bookfile:\n",
    "                content = bookfile.readlines()\n",
    "                books_encoding['cp1252'] = books_encoding['cp1252'] + 1\n",
    "        except Exception:\n",
    "            with open(book, 'r') as bookfile:\n",
    "                content = bookfile.readlines()\n",
    "                if (bookfile.encoding in books_encoding):\n",
    "                    books_encoding[bookfile.encoding] = books_encoding[bookfile.encoding] + 1\n",
    "                else:\n",
    "                    books_encoding[bookfile.encoding] = 1\n",
    "\n",
    "print (books_encoding)"
   ]
  },
  {
   "cell_type": "markdown",
   "id": "326aa84c",
   "metadata": {},
   "source": [
    "And a few may require some wrangling, which I'll do in the original files --"
   ]
  },
  {
   "cell_type": "code",
   "execution_count": 31,
   "id": "189f0be6",
   "metadata": {},
   "outputs": [],
   "source": [
    "def process_line(line):\n",
    "    book_properties = {}\n",
    "    if (line.strip() > ''): \n",
    "        if '=' in line:\n",
    "            try:\n",
    "                prop_name, prop_value = line.split('=')\n",
    "                book_properties[prop_name.strip()] = prop_value.strip()\n",
    "            except ValueError:\n",
    "                print ('*** Incorrect property setting formatting (double equals sign):', book, \"- Line: \", line.strip())\n",
    "        else:\n",
    "            print ('*** Incorrect property setting (no equals sign):', book, \"- Line: \", line.strip())\n",
    "    return book_properties\n",
    "\n",
    "all_books = {}\n",
    "for book in book_list:\n",
    "    all_books[book] = []\n",
    "    try:\n",
    "        with open(book, 'r', encoding='utf-8-sig') as bookfile:\n",
    "            content = bookfile.readlines()\n",
    "            book_property = {}\n",
    "            for line in content:\n",
    "                book_property = process_line(line)\n",
    "                if (len(book_property) > 0):\n",
    "                    all_books[book].append(book_property)\n",
    "    except UnicodeDecodeError:\n",
    "        try:\n",
    "            with open(book, 'r', encoding='cp1252') as bookfile:\n",
    "                content = bookfile.readlines()\n",
    "                book_property = {}\n",
    "                for line in content:\n",
    "                    book_property = process_line(line)\n",
    "                    if (len(book_property) > 0):\n",
    "                        all_books[book].append(book_property)\n",
    "        except Exception:\n",
    "            print (\"File couldn't be parsed:\", book, \" - Encoding: \", bookfile.encoding)"
   ]
  },
  {
   "cell_type": "markdown",
   "id": "98c52742",
   "metadata": {},
   "source": [
    "Reloading books, after fixing the errors above."
   ]
  },
  {
   "cell_type": "code",
   "execution_count": 33,
   "id": "b67734d4",
   "metadata": {},
   "outputs": [
    {
     "name": "stdout",
     "output_type": "stream",
     "text": [
      "988\n"
     ]
    }
   ],
   "source": [
    "import glob\n",
    "\n",
    "def process_line(line):\n",
    "    book_properties = {}\n",
    "    if (line.strip() > ''): \n",
    "        if '=' in line:\n",
    "            try:\n",
    "                prop_name, prop_value = line.split('=')\n",
    "                book_properties[prop_name.strip()] = prop_value.strip()\n",
    "            except ValueError:\n",
    "                print ('*** Incorrect property setting formatting (double equals sign):', book, \"- Line: \", line.strip())\n",
    "        else:\n",
    "            print ('*** Incorrect property setting (no equals sign):', book, \"- Line: \", line.strip())\n",
    "    return book_properties\n",
    "\n",
    "\n",
    "book_list = glob.glob('txt/**/*.book', recursive=True)\n",
    "book_list.extend(glob.glob('txt/**/.*.book', recursive=True))\n",
    "\n",
    "all_books = {}\n",
    "for book in book_list:\n",
    "    all_books[book] = []\n",
    "    try:\n",
    "        with open(book, 'r', encoding='utf-8-sig') as bookfile:\n",
    "            content = bookfile.readlines()\n",
    "            book_property = {}\n",
    "            for line in content:\n",
    "                book_property = process_line(line)\n",
    "                if (len(book_property) > 0):\n",
    "                    all_books[book].append(book_property)\n",
    "    except UnicodeDecodeError:\n",
    "        try:\n",
    "            with open(book, 'r', encoding='cp1252') as bookfile:\n",
    "                content = bookfile.readlines()\n",
    "                book_property = {}\n",
    "                for line in content:\n",
    "                    book_property = process_line(line)\n",
    "                    if (len(book_property) > 0):\n",
    "                        all_books[book].append(book_property)\n",
    "        except Exception:\n",
    "            print (\"File couldn't be parsed:\", book, \" - Encoding: \", bookfile.encoding)\n",
    "            \n",
    "print (len(all_books))"
   ]
  },
  {
   "cell_type": "markdown",
   "id": "2a05844e",
   "metadata": {},
   "source": [
    "How about the encodings now, with the new dataset?"
   ]
  },
  {
   "cell_type": "code",
   "execution_count": 34,
   "id": "70e82cce",
   "metadata": {},
   "outputs": [
    {
     "name": "stdout",
     "output_type": "stream",
     "text": [
      "{'utf-8': 975, 'cp1252': 13}\n"
     ]
    }
   ],
   "source": [
    "books_encoding = {}\n",
    "books_encoding['utf-8'] = 0\n",
    "books_encoding['cp1252'] = 0\n",
    "\n",
    "for book in book_list:\n",
    "    try:\n",
    "        with open(book, 'r', encoding='utf-8') as bookfile:\n",
    "            content = bookfile.readlines()\n",
    "            books_encoding['utf-8'] = books_encoding['utf-8'] + 1\n",
    "    except UnicodeDecodeError:\n",
    "        try:\n",
    "            with open(book, 'r', encoding='cp1252') as bookfile:\n",
    "                content = bookfile.readlines()\n",
    "                books_encoding['cp1252'] = books_encoding['cp1252'] + 1\n",
    "        except Exception:\n",
    "            with open(book, 'r') as bookfile:\n",
    "                content = bookfile.readlines()\n",
    "                if (bookfile.encoding in books_encoding):\n",
    "                    books_encoding[bookfile.encoding] = books_encoding[bookfile.encoding] + 1\n",
    "                else:\n",
    "                    books_encoding[bookfile.encoding] = 1\n",
    "\n",
    "print (books_encoding)"
   ]
  },
  {
   "cell_type": "markdown",
   "id": "b0e2df6a",
   "metadata": {},
   "source": [
    "Checking some book samples."
   ]
  },
  {
   "cell_type": "code",
   "execution_count": 35,
   "id": "871ec6a3",
   "metadata": {},
   "outputs": [
    {
     "name": "stdout",
     "output_type": "stream",
     "text": [
      "['txt\\\\A\\\\Actions_Speak.book', 'txt\\\\A\\\\Allan_Kardec.book', 'txt\\\\A\\\\Armazem_do_Folclore.book', 'txt\\\\A\\\\Assim_tudo_comecou.book', 'txt\\\\A\\\\As_dobraduras_de_Papelino.book', 'txt\\\\A\\\\A_Arte_Naif_no_Brasil.book', 'txt\\\\A\\\\A_Divina_Comedia-Inferno.book', 'txt\\\\A\\\\A_Divina_Comedia-Paraiso.book', 'txt\\\\A\\\\A_Divina_Comedia-Purgatorio.book']\n"
     ]
    }
   ],
   "source": [
    "print (list(all_books.keys())[:9])"
   ]
  },
  {
   "cell_type": "code",
   "execution_count": 36,
   "id": "766adbd9",
   "metadata": {},
   "outputs": [
    {
     "name": "stdout",
     "output_type": "stream",
     "text": [
      "[{'type': 'book'}, {'subtype': 'fiction'}, {'subtype': 'poetry'}, {'title': 'A Divina Comédia'}, {'volume': 'Paraíso'}, {'author': 'Dante Alighieri'}, {'translator': 'Italo Eugenio Mauro'}, {'publisher': 'Editora 34'}, {'year': '1998'}, {'year_first_publication': '1330'}, {'num_pages': '239'}, {'isbn': '85-7326-120-X'}, {'isbn': '85-7326-123-4'}, {'lang': 'pt'}, {'lang': 'it'}, {'original_lang': 'it'}, {'original_title': 'La Divina Commedia'}, {'original_volume': 'Paradiso'}, {'keyword': 'Paradise'}, {'keyword': 'Heaven'}, {'keyword': 'Spheres of Heaven'}, {'keyword': 'Primum Mobile'}, {'keyword': 'Empyrean'}, {'keyword': 'God'}, {'keyword': 'Medieval Allegories'}, {'keyword': 'Dante Alighieri'}, {'keyword': 'Durante degli Alighieri'}, {'keyword': 'Beatrice'}, {'keyword': 'Beatrice Portinari'}]\n"
     ]
    }
   ],
   "source": [
    "print (all_books['txt\\\\A\\\\A_Divina_Comedia-Paraiso.book'])"
   ]
  },
  {
   "cell_type": "code",
   "execution_count": 37,
   "id": "2b90e8ee",
   "metadata": {},
   "outputs": [
    {
     "name": "stdout",
     "output_type": "stream",
     "text": [
      "[{'type': 'book'}, {'subtype': 'nonfiction'}, {'subtype': 'artbook'}, {'title': 'A Arte Naif no Brasil'}, {'editor': 'Jacques Ardies'}, {'editor': 'Geraldo Edson de Andrade'}, {'contributor': 'Adelson do Prado'}, {'contributor': 'Agostinho Batista de Freitas'}, {'contributor': 'Alba Cavalcanti'}, {'contributor': 'Aloísio'}, {'contributor': 'Ana Maria Dias'}, {'contributor': 'Antonio de Olinda'}, {'contributor': 'Antonio Poteiro'}, {'contributor': 'Aparecida Azedo'}, {'contributor': 'Barbara Rochlitz'}, {'contributor': 'Cardosinho'}, {'contributor': 'Carlos Lousada'}, {'contributor': 'Celeste Bravo'}, {'contributor': 'Chico da Silva'}, {'contributor': 'Constância Nery'}, {'contributor': 'Crisaldo Morais'}, {'contributor': 'Dalvan'}, {'contributor': 'Dila'}, {'contributor': 'Dótoli'}, {'contributor': 'Doval'}, {'contributor': 'Edgar Calhado'}, {'contributor': 'Edivaldo'}, {'contributor': 'Edson Lima'}, {'contributor': 'Elisa Martins da Silveira'}, {'contributor': 'Elza O.S.'}, {'contributor': 'Emygdio de Souza'}, {'contributor': 'Ernani Pavaneli'}, {'contributor': 'Euridyce'}, {'contributor': 'Ferreira'}, {'contributor': 'Francisco Severino'}, {'contributor': 'Gerson'}, {'contributor': 'Gilvan'}, {'contributor': 'Grauben'}, {'contributor': 'Heitor dos Prazeres'}, {'contributor': 'Helena Coelho'}, {'contributor': 'Helenos'}, {'contributor': 'Henry Vitor'}, {'contributor': 'Iaponí Araújo'}, {'contributor': 'Ignácio da Nega'}, {'contributor': 'Isabel de Jesus'}, {'contributor': 'Ivan Moraes'}, {'contributor': 'Ivonaldo'}, {'contributor': 'José Antonio da Silva'}, {'contributor': 'J. Coimbra'}, {'contributor': 'José de Freitas'}, {'contributor': 'José Sabóia'}, {'contributor': 'Juca'}, {'contributor': 'Juçara'}, {'contributor': 'Júlio Martins da Silva'}, {'contributor': ''}, {'contributor': 'Kleber Figueira'}, {'contributor': 'Lia Mittarakis'}, {'contributor': 'Lucia Buccini'}, {'contributor': 'Luiz Cassemiro'}, {'contributor': 'Madeleine Colaço'}, {'contributor': 'M. Zawadzka'}, {'contributor': 'Maria Auxiliadora'}, {'contributor': 'Maria Guadalupe'}, {'contributor': 'Miranda'}, {'contributor': 'Mirian'}, {'contributor': 'Nelson Porto'}, {'contributor': 'Neuton de Andrade'}, {'contributor': 'Paulina Eizirik'}, {'contributor': 'Paulo Pedroso Leal'}, {'contributor': 'Ranchinho'}, {'contributor': 'Reginaldo Miranda'}, {'contributor': 'Rodolpho Tamanini Netto'}, {'contributor': 'Rosina Becker do Valle'}, {'contributor': 'Sílvia'}, {'contributor': 'Sônia Furtado'}, {'contributor': 'Tavares'}, {'contributor': 'Teles'}, {'contributor': 'Tercilia'}, {'contributor': 'Vaine Ayres Leite'}, {'contributor': 'Vatenor'}, {'contributor': 'Waldemar de Andrade'}, {'contributor': 'Waldomiro de Deus'}, {'contributor': 'Wilma Ramos'}, {'contributor': 'Zé Cordeiro'}, {'publisher': 'Empresa das Artes'}, {'year': '1998'}, {'num_pages': '245'}, {'isbn': '85-85628-37-5'}, {'dewey_decimal_class': '759.981'}, {'universal_decimal_class': ''}, {'lang': 'pt_BR'}, {'keyword': 'Naïve Art'}, {'keyword': 'Brazil'}, {'keyword': '20th Century'}, {'keyword': 'Fine Arts'}, {'keyword': 'Popular Art'}, {'keyword': 'Painting'}]\n"
     ]
    }
   ],
   "source": [
    "print (all_books['txt\\\\A\\\\A_Arte_Naif_no_Brasil.book'])"
   ]
  },
  {
   "cell_type": "markdown",
   "id": "a9636ff0",
   "metadata": {},
   "source": [
    "Storing the data in SQL, still using the key-value structure. "
   ]
  },
  {
   "cell_type": "code",
   "execution_count": 38,
   "id": "3966d94a",
   "metadata": {},
   "outputs": [
    {
     "name": "stdout",
     "output_type": "stream",
     "text": [
      "Starting: 2021-09-14 11:27:09.559845\n",
      "............................................................................................................................................................................................................................................................................................................................................................................................................................................................................................................................................................................................................................................................................................................................................................................................................................................................................................................................................................................................................................Finished: 2021-09-14 11:41:52.147767\n"
     ]
    }
   ],
   "source": [
    "import sqlite3\n",
    "\n",
    "from datetime import datetime\n",
    "\n",
    "now = datetime.now()\n",
    "print ('Starting:', now)\n",
    "\n",
    "conn = sqlite3.connect('D:\\\\DB\\\\sqlite\\\\books.db')\n",
    "cursor = conn.cursor()\n",
    "cursor.execute('delete from item')\n",
    "conn.commit()\n",
    "cursor.execute('delete from item_property')\n",
    "conn.commit()\n",
    "\n",
    "for bookfile in all_books:\n",
    "    ins_item_cmd = 'insert into item (filename) values (?)'\n",
    "    cursor.execute(ins_item_cmd, (bookfile.strip(),))\n",
    "    #print (ins_item_cmd, '---', bookfile.strip())\n",
    "    print ('.', end='')\n",
    "    conn.commit()\n",
    "    cursor.execute('select last_insert_rowid()')\n",
    "    item_id = cursor.fetchall()[0][0]\n",
    "    \n",
    "    for prop_dict in all_books[bookfile]:\n",
    "        for prop in prop_dict:\n",
    "            ins_prop_cmd = 'insert into item_property (item_id, property, value) values (?, ?, ?)'\n",
    "            prop_tuple = (item_id, prop, prop_dict[prop],)\n",
    "            cursor.execute(ins_prop_cmd, prop_tuple)\n",
    "            #print (ins_prop_cmd, '---', prop_tuple)\n",
    "            conn.commit()            \n",
    "\n",
    "conn.close()\n",
    "\n",
    "now = datetime.now()\n",
    "print ('Finished:', now)"
   ]
  },
  {
   "cell_type": "markdown",
   "id": "21a5f6e5",
   "metadata": {},
   "source": [
    "To keep documented for a next run -\n",
    "```\n",
    "Starting: 2021-09-14 11:27:09.559845\n",
    "(...)\n",
    "Finished: 2021-09-14 11:41:52.147767\n",
    "```"
   ]
  },
  {
   "cell_type": "code",
   "execution_count": 43,
   "id": "bb010c92",
   "metadata": {},
   "outputs": [],
   "source": [
    "import pandas as pd\n",
    "import sqlite3\n",
    "\n",
    "conn = sqlite3.connect('D:\\\\DB\\\\sqlite\\\\books.db')\n",
    "\n",
    "df = pd.read_sql_query('select * from book', conn)"
   ]
  },
  {
   "cell_type": "code",
   "execution_count": 67,
   "id": "43221542",
   "metadata": {},
   "outputs": [
    {
     "data": {
      "text/html": [
       "<div>\n",
       "<style scoped>\n",
       "    .dataframe tbody tr th:only-of-type {\n",
       "        vertical-align: middle;\n",
       "    }\n",
       "\n",
       "    .dataframe tbody tr th {\n",
       "        vertical-align: top;\n",
       "    }\n",
       "\n",
       "    .dataframe thead th {\n",
       "        text-align: right;\n",
       "    }\n",
       "</style>\n",
       "<table border=\"1\" class=\"dataframe\">\n",
       "  <thead>\n",
       "    <tr style=\"text-align: right;\">\n",
       "      <th></th>\n",
       "      <th>item_id</th>\n",
       "      <th>main_title</th>\n",
       "      <th>main_subtitle</th>\n",
       "      <th>volume</th>\n",
       "      <th>publisher</th>\n",
       "      <th>isbn</th>\n",
       "      <th>year</th>\n",
       "    </tr>\n",
       "  </thead>\n",
       "  <tbody>\n",
       "    <tr>\n",
       "      <th>0</th>\n",
       "      <td>1</td>\n",
       "      <td>Actions Speak</td>\n",
       "      <td>None</td>\n",
       "      <td>None</td>\n",
       "      <td>Dark Horse Comics</td>\n",
       "      <td>978-1569717585</td>\n",
       "      <td>2002.0</td>\n",
       "    </tr>\n",
       "    <tr>\n",
       "      <th>1</th>\n",
       "      <td>2</td>\n",
       "      <td>Allan Kardec</td>\n",
       "      <td>None</td>\n",
       "      <td>None</td>\n",
       "      <td>Editora Globo</td>\n",
       "      <td>None</td>\n",
       "      <td>2007.0</td>\n",
       "    </tr>\n",
       "    <tr>\n",
       "      <th>2</th>\n",
       "      <td>3</td>\n",
       "      <td>Armazém do Folclore</td>\n",
       "      <td>None</td>\n",
       "      <td>None</td>\n",
       "      <td>Editora Ática</td>\n",
       "      <td>978-85-08-07483-9</td>\n",
       "      <td>2015.0</td>\n",
       "    </tr>\n",
       "    <tr>\n",
       "      <th>3</th>\n",
       "      <td>4</td>\n",
       "      <td>Assim tudo começou</td>\n",
       "      <td>enigmas da criação</td>\n",
       "      <td>None</td>\n",
       "      <td>Quinteto Editorial</td>\n",
       "      <td>978-85-305-0498-4</td>\n",
       "      <td>2005.0</td>\n",
       "    </tr>\n",
       "    <tr>\n",
       "      <th>4</th>\n",
       "      <td>5</td>\n",
       "      <td>As dobraduras de Papelino</td>\n",
       "      <td>None</td>\n",
       "      <td>None</td>\n",
       "      <td>Nobel</td>\n",
       "      <td>85-213-0558-3</td>\n",
       "      <td>1989.0</td>\n",
       "    </tr>\n",
       "  </tbody>\n",
       "</table>\n",
       "</div>"
      ],
      "text/plain": [
       "   item_id                 main_title       main_subtitle volume  \\\n",
       "0        1              Actions Speak                None   None   \n",
       "1        2               Allan Kardec                None   None   \n",
       "2        3        Armazém do Folclore                None   None   \n",
       "3        4         Assim tudo começou  enigmas da criação   None   \n",
       "4        5  As dobraduras de Papelino                None   None   \n",
       "\n",
       "            publisher               isbn    year  \n",
       "0   Dark Horse Comics     978-1569717585  2002.0  \n",
       "1       Editora Globo               None  2007.0  \n",
       "2       Editora Ática  978-85-08-07483-9  2015.0  \n",
       "3  Quinteto Editorial  978-85-305-0498-4  2005.0  \n",
       "4               Nobel      85-213-0558-3  1989.0  "
      ]
     },
     "execution_count": 67,
     "metadata": {},
     "output_type": "execute_result"
    }
   ],
   "source": [
    "df['year'] = pd.to_numeric(df['year'], errors = 'coerce')\n",
    "\n",
    "df.head()"
   ]
  },
  {
   "cell_type": "code",
   "execution_count": 75,
   "id": "cc8c0bbf",
   "metadata": {},
   "outputs": [
    {
     "data": {
      "text/plain": [
       "<AxesSubplot:ylabel='Frequency'>"
      ]
     },
     "execution_count": 75,
     "metadata": {},
     "output_type": "execute_result"
    },
    {
     "data": {
      "image/png": "[encoded data removed]",
      "text/plain": [
       "<Figure size 432x288 with 1 Axes>"
      ]
     },
     "metadata": {
      "needs_background": "light"
     },
     "output_type": "display_data"
    }
   ],
   "source": [
    "import matplotlib.pyplot as plt\n",
    "\n",
    "df['year'].plot(kind = 'hist')"
   ]
  },
  {
   "cell_type": "code",
   "execution_count": null,
   "id": "233aa6ee",
   "metadata": {},
   "outputs": [],
   "source": []
  }
 ],
 "metadata": {
  "kernelspec": {
   "display_name": "Python 3 (ipykernel)",
   "language": "python",
   "name": "python3"
  },
  "language_info": {
   "codemirror_mode": {
    "name": "ipython",
    "version": 3
   },
   "file_extension": ".py",
   "mimetype": "text/x-python",
   "name": "python",
   "nbconvert_exporter": "python",
   "pygments_lexer": "ipython3",
   "version": "3.8.8"
  }
 },
 "nbformat": 4,
 "nbformat_minor": 5
}
