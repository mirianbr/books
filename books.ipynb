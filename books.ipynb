{
 "cells": [
  {
   "cell_type": "markdown",
   "id": "1c432798",
   "metadata": {},
   "source": [
    "# Books loading and data exploration\n",
    "\n",
    "Exercise for reading, loading into a database and exploring books from our private library. \n",
    "\n",
    "We don't use any software or app for storing our books at home, but we do have them recorded using a predefined format, intended for easily loading the books data, something neither I or my husband did so far. Here's how a book data file looks like:\n",
    "\n",
    "```\n",
    "type=book\n",
    "subtype=nonfiction\n",
    "subtype=fiction\n",
    "\n",
    "title=There Are No Electrons\n",
    "subtitle=Electronics for Earthlings\n",
    "author=Kenn Amdahl\n",
    "alt_author=Kenneth Amdahl\n",
    "publisher=Clearwater Publishing\n",
    "year=1998\n",
    "year_first_publication=1991\n",
    "num_pages=322\n",
    "\n",
    "isbn=0-9627815-9-2\n",
    "lang=en_US\n",
    "\n",
    "keyword=Electronics\n",
    "keyword=Jargon\n",
    "keyword=Static Electricity\n",
    "...\n",
    "```\n",
    "\n",
    "This notebook is a first attempt of doing this data loading, for the simple pleasure of exploring a dataset of things I really love. 📚 ❤️"
   ]
  },
  {
   "cell_type": "code",
   "execution_count": 11,
   "id": "935ce03a",
   "metadata": {
    "scrolled": false
   },
   "outputs": [
    {
     "name": "stdout",
     "output_type": "stream",
     "text": [
      "First 10 books read: txt\\A\\Actions_Speak.book, txt\\A\\Allan_Kardec.book, txt\\A\\Armazem_do_Folclore.book, txt\\A\\Assim_tudo_comecou.book, txt\\A\\As_dobraduras_de_Papelino.book, txt\\A\\A_Arte_Naif_no_Brasil.book, txt\\A\\A_Divina_Comedia-Inferno.book, txt\\A\\A_Divina_Comedia-Paraiso.book, txt\\A\\A_Divina_Comedia-Purgatorio.book\n"
     ]
    }
   ],
   "source": [
    "import glob\n",
    "\n",
    "book_list = glob.glob('txt/**/*.book', recursive=True)\n",
    "\n",
    "print ('First 10 books read:', ', '.join(book_list[:9]))"
   ]
  },
  {
   "cell_type": "markdown",
   "id": "148530f4",
   "metadata": {},
   "source": [
    "Most are utf-8, but not all of them."
   ]
  },
  {
   "cell_type": "code",
   "execution_count": 19,
   "id": "f8b54225",
   "metadata": {},
   "outputs": [
    {
     "name": "stdout",
     "output_type": "stream",
     "text": [
      "{'utf-8': 954, 'cp1252': 13}\n"
     ]
    }
   ],
   "source": [
    "books_encoding = {}\n",
    "books_encoding['utf-8'] = 0\n",
    "books_encoding['cp1252'] = 0\n",
    "\n",
    "for book in book_list:\n",
    "    try:\n",
    "        with open(book, 'r', encoding='utf-8') as bookfile:\n",
    "            content = bookfile.readlines()\n",
    "            books_encoding['utf-8'] = books_encoding['utf-8'] + 1\n",
    "    except UnicodeDecodeError:\n",
    "        try:\n",
    "            with open(book, 'r', encoding='cp1252') as bookfile:\n",
    "                content = bookfile.readlines()\n",
    "                books_encoding['cp1252'] = books_encoding['cp1252'] + 1\n",
    "        except Exception:\n",
    "            with open(book, 'r') as bookfile:\n",
    "                content = bookfile.readlines()\n",
    "                if (bookfile.encoding in books_encoding):\n",
    "                    books_encoding[bookfile.encoding] = books_encoding[bookfile.encoding] + 1\n",
    "                else:\n",
    "                    books_encoding[bookfile.encoding] = 1\n",
    "\n",
    "print (books_encoding)"
   ]
  },
  {
   "cell_type": "markdown",
   "id": "326aa84c",
   "metadata": {},
   "source": [
    "And a few require some wrangling, which I'll do in the original files --"
   ]
  },
  {
   "cell_type": "code",
   "execution_count": 45,
   "id": "189f0be6",
   "metadata": {},
   "outputs": [
    {
     "name": "stdout",
     "output_type": "stream",
     "text": [
      "*** Incorrect property setting (no equals sign): txt\\A\\O_Alienista.book - Line:  subtypefiction\n",
      "*** Incorrect property setting formatting (double equals sign): txt\\C\\Antologia_do_Folclore_Brasileiro-Vol_1.book - Line:  keyword==Salamancas\n",
      "*** Incorrect property setting formatting (double equals sign): txt\\M\\Ruido_Blanco_6.book - Line:  series=series=Ruido Blanco\n",
      "*** Incorrect property setting formatting (double equals sign): txt\\W\\Nao_entendo_muito_de_vinho_mas_sei_do_que_gosto.book - Line:  <=== fix this! subtype=nonfiction fiction poetry dictionary textbook biography handbook cookbook guidebook travelogue manual comics photobook drawing grammar puzzle scripture proceedings gamebook\n"
     ]
    }
   ],
   "source": [
    "def process_line(line):\n",
    "    book_properties = {}\n",
    "    if (line.strip() > ''): \n",
    "        if '=' in line:\n",
    "            try:\n",
    "                prop_name, prop_value = line.split('=')\n",
    "                book_properties[prop_name.strip()] = prop_value.strip()\n",
    "            except ValueError:\n",
    "                print ('*** Incorrect property setting formatting (double equals sign):', book, \"- Line: \", line.strip())\n",
    "        else:\n",
    "            print ('*** Incorrect property setting (no equals sign):', book, \"- Line: \", line.strip())\n",
    "    return book_properties\n",
    "\n",
    "all_books = {}\n",
    "for book in book_list:\n",
    "    all_books[book] = []\n",
    "    try:\n",
    "        with open(book, 'r', encoding='utf-8-sig') as bookfile:\n",
    "            content = bookfile.readlines()\n",
    "            book_property = {}\n",
    "            for line in content:\n",
    "                book_property = process_line(line)\n",
    "                if (len(book_property) > 0):\n",
    "                    all_books[book].append(book_property)\n",
    "    except UnicodeDecodeError:\n",
    "        try:\n",
    "            with open(book, 'r', encoding='cp1252') as bookfile:\n",
    "                content = bookfile.readlines()\n",
    "                book_property = {}\n",
    "                for line in content:\n",
    "                    book_property = process_line(line)\n",
    "                    if (len(book_property) > 0):\n",
    "                        all_books[book].append(book_property)\n",
    "        except Exception:\n",
    "            print (\"File couldn't be parsed:\", book, \" - Encoding: \", bookfile.encoding)"
   ]
  },
  {
   "cell_type": "markdown",
   "id": "98c52742",
   "metadata": {},
   "source": [
    "Reloading books, after fixing the errors above."
   ]
  },
  {
   "cell_type": "code",
   "execution_count": 66,
   "id": "b67734d4",
   "metadata": {},
   "outputs": [
    {
     "name": "stdout",
     "output_type": "stream",
     "text": [
      "969\n"
     ]
    }
   ],
   "source": [
    "import glob\n",
    "\n",
    "\n",
    "def process_line(line):\n",
    "    book_properties = {}\n",
    "    if (line.strip() > ''): \n",
    "        if '=' in line:\n",
    "            try:\n",
    "                prop_name, prop_value = line.split('=')\n",
    "                book_properties[prop_name.strip()] = prop_value.strip()\n",
    "            except ValueError:\n",
    "                print ('*** Incorrect property setting formatting (double equals sign):', book, \"- Line: \", line.strip())\n",
    "        else:\n",
    "            print ('*** Incorrect property setting (no equals sign):', book, \"- Line: \", line.strip())\n",
    "    return book_properties\n",
    "\n",
    "\n",
    "book_list = glob.glob('txt/**/*.book', recursive=True)\n",
    "\n",
    "all_books = {}\n",
    "for book in book_list:\n",
    "    all_books[book] = []\n",
    "    try:\n",
    "        with open(book, 'r', encoding='utf-8-sig') as bookfile:\n",
    "            content = bookfile.readlines()\n",
    "            book_property = {}\n",
    "            for line in content:\n",
    "                book_property = process_line(line)\n",
    "                if (len(book_property) > 0):\n",
    "                    all_books[book].append(book_property)\n",
    "    except UnicodeDecodeError:\n",
    "        try:\n",
    "            with open(book, 'r', encoding='cp1252') as bookfile:\n",
    "                content = bookfile.readlines()\n",
    "                book_property = {}\n",
    "                for line in content:\n",
    "                    book_property = process_line(line)\n",
    "                    if (len(book_property) > 0):\n",
    "                        all_books[book].append(book_property)\n",
    "        except Exception:\n",
    "            print (\"File couldn't be parsed:\", book, \" - Encoding: \", bookfile.encoding)\n",
    "            \n",
    "print (len(all_books))"
   ]
  },
  {
   "cell_type": "markdown",
   "id": "2a05844e",
   "metadata": {},
   "source": [
    "How about the encodings now, with the new dataset?"
   ]
  },
  {
   "cell_type": "code",
   "execution_count": 7,
   "id": "70e82cce",
   "metadata": {},
   "outputs": [
    {
     "name": "stdout",
     "output_type": "stream",
     "text": [
      "{'utf-8': 956, 'cp1252': 13}\n"
     ]
    }
   ],
   "source": [
    "books_encoding = {}\n",
    "books_encoding['utf-8'] = 0\n",
    "books_encoding['cp1252'] = 0\n",
    "\n",
    "for book in book_list:\n",
    "    try:\n",
    "        with open(book, 'r', encoding='utf-8') as bookfile:\n",
    "            content = bookfile.readlines()\n",
    "            books_encoding['utf-8'] = books_encoding['utf-8'] + 1\n",
    "    except UnicodeDecodeError:\n",
    "        try:\n",
    "            with open(book, 'r', encoding='cp1252') as bookfile:\n",
    "                content = bookfile.readlines()\n",
    "                books_encoding['cp1252'] = books_encoding['cp1252'] + 1\n",
    "        except Exception:\n",
    "            with open(book, 'r') as bookfile:\n",
    "                content = bookfile.readlines()\n",
    "                if (bookfile.encoding in books_encoding):\n",
    "                    books_encoding[bookfile.encoding] = books_encoding[bookfile.encoding] + 1\n",
    "                else:\n",
    "                    books_encoding[bookfile.encoding] = 1\n",
    "\n",
    "print (books_encoding)"
   ]
  },
  {
   "cell_type": "markdown",
   "id": "b0e2df6a",
   "metadata": {},
   "source": [
    "Checking some book samples."
   ]
  },
  {
   "cell_type": "code",
   "execution_count": 68,
   "id": "871ec6a3",
   "metadata": {},
   "outputs": [
    {
     "name": "stdout",
     "output_type": "stream",
     "text": [
      "dict_keys(['txt\\\\A\\\\Actions_Speak.book', 'txt\\\\A\\\\Allan_Kardec.book', 'txt\\\\A\\\\Armazem_do_Folclore.book', 'txt\\\\A\\\\Assim_tudo_comecou.book', 'txt\\\\A\\\\As_dobraduras_de_Papelino.book', 'txt\\\\A\\\\A_Arte_Naif_no_Brasil.book', 'txt\\\\A\\\\A_Divina_Comedia-Inferno.book', 'txt\\\\A\\\\A_Divina_Comedia-Paraiso.book', 'txt\\\\A\\\\A_Divina_Comedia-Purgatorio.book', 'txt\\\\A\\\\A_teoria_critica.book', 'txt\\\\A\\\\A_Vida_o_Universo_e_Tudo_Mais.book', 'txt\\\\A\\\\Bacia_das_almas.book', 'txt\\\\A\\\\Canaa.book', 'txt\\\\A\\\\Capitaes_da_areia.book', 'txt\\\\A\\\\Chico_Xavier.book', 'txt\\\\A\\\\Contos_de_enganar_a_morte.book', 'txt\\\\A\\\\Degola_e_degoladores.book', 'txt\\\\A\\\\Dilbert-Corra_o_controle_de_qualidade_vem_ai.book', 'txt\\\\A\\\\Dom_Casmurro.book', 'txt\\\\A\\\\Esta_na_mesa.book', 'txt\\\\A\\\\Etica_a_Nicomaco.book', 'txt\\\\A\\\\Flatland.book', 'txt\\\\A\\\\Groo_vs_Conan.book', 'txt\\\\A\\\\Meio_Sol_Amarelo.book', 'txt\\\\A\\\\Memorias_de_um_sargento_de_milicias.book', 'txt\\\\A\\\\Mitos_leyendas_y_tradiciones_de_la_Banda_Oriental-7a_Ed.book', 'txt\\\\A\\\\Modern_Cpp_Design.book', 'txt\\\\A\\\\Noite_na_taverna_e_poemas_escolhidos.book', 'txt\\\\A\\\\Origens_do_totalitarismo.book', 'txt\\\\A\\\\Os_testamentos.book', 'txt\\\\A\\\\O_Alienista.book', 'txt\\\\A\\\\O_bem_viver.book', 'txt\\\\A\\\\O_conto_da_aia.book', 'txt\\\\A\\\\O_Guia_do_Mochileiro_das_Galaxias.book', 'txt\\\\A\\\\O_principio_Dilbert.book', 'txt\\\\A\\\\O_Restaurante_no_Fim_do_Universo.book', 'txt\\\\A\\\\Poesia_fora_da_estante.book', 'txt\\\\A\\\\Pos-extrativismo_e_decrescimento.book', 'txt\\\\A\\\\Razao_e_sensibilidade.book', 'txt\\\\A\\\\Redemoinho_em_dia_quente.book', 'txt\\\\A\\\\Ressurreicao.book', 'txt\\\\A\\\\Sergio_Aragones.book', 'txt\\\\A\\\\There_Are_No_Electrons.book', 'txt\\\\A\\\\The_cat_who_came_for_Christmas.book', 'txt\\\\A\\\\Tieta_do_Agreste.book', 'txt\\\\A\\\\Usucapiao.book', 'txt\\\\A\\\\Viagem_Gastronomica_pela_Hungria.book', 'txt\\\\B\\\\1001_Maravilhas_Naturais_Para_Ver_Antes_de_Morrer.book', 'txt\\\\B\\\\Antonia_e_suas_filhas.book', 'txt\\\\B\\\\A_natural_history_of_dragons.book', 'txt\\\\B\\\\A_parabola_do_semeador.book', 'txt\\\\B\\\\Board_Game_Design_Advice.book', 'txt\\\\B\\\\Budapeste.book', 'txt\\\\B\\\\Como_ordenar_as_ideias.book', 'txt\\\\B\\\\Curso_de_Filosofia_do_Direito.book', 'txt\\\\B\\\\Democracia_e_segredo.book', 'txt\\\\B\\\\Dicionario_Espanhol-Portugues_e_Portugues-Espanhol-11a_Ed.book', 'txt\\\\B\\\\Direita_e_Esquerda.book', 'txt\\\\B\\\\Dos_delitos_e_das_penas.book', 'txt\\\\B\\\\Effective_Java-3rd_Ed.book', 'txt\\\\B\\\\Elogio_da_serenidade.book', 'txt\\\\B\\\\Em_busca_de_inspiracao.book', 'txt\\\\B\\\\Enterrem_Meu_Coracao_na_Curva_do_Rio.book', 'txt\\\\B\\\\Estado_governo_sociedade.book', 'txt\\\\B\\\\Fahrenheit_451.book', 'txt\\\\B\\\\fisl_8.0.book', 'txt\\\\B\\\\Geografias.book', 'txt\\\\B\\\\Guernica.book', 'txt\\\\B\\\\Guide_pour_la_recherche_des_idees_dans_les_dissertations_et_les_etudes_litteraires.book', 'txt\\\\B\\\\GURPS_Supers.book', 'txt\\\\B\\\\Kindred.book', 'txt\\\\B\\\\Michaelis_Pequeno_Dicionario_Ingles-Portugues_Portugues-Ingles.book', 'txt\\\\B\\\\Moderna_Gramatica_Portuguesa-37a_Ed.book', 'txt\\\\B\\\\Modernidade_Liquida.book', 'txt\\\\B\\\\Narratology-3rd_Ed.book', 'txt\\\\B\\\\Os_criadores_de_coincidencias.book', 'txt\\\\B\\\\O_Codigo_Da_Vinci.book', 'txt\\\\B\\\\O_futuro_da_democracia.book', 'txt\\\\B\\\\O_grande_livro_das_tortas.book', 'txt\\\\B\\\\O_guia_de_sobrevivencia_a_zumbis-ataques_registrados.book', 'txt\\\\B\\\\O_ladrao_de_cadaveres.book', 'txt\\\\B\\\\O_Livro_da_Mitologia.book', 'txt\\\\B\\\\O_Livro_dos_Lobisomens.book', 'txt\\\\B\\\\O_livro_dos_seres_imaginarios.book', 'txt\\\\B\\\\O_melhor_de_Hagar_o_Horrivel-vol_1.book', 'txt\\\\B\\\\O_melhor_de_Hagar_o_Horrivel-vol_2.book', 'txt\\\\B\\\\O_positivismo_juridico.book', 'txt\\\\B\\\\O_positivismo_juridico_contemporaneo.book', 'txt\\\\B\\\\Por_todos_os_continentes.book', 'txt\\\\B\\\\Python_Essential_Reference.book', 'txt\\\\B\\\\Ready_set_go.book', 'txt\\\\B\\\\Sociedades_Artificiais.book', 'txt\\\\B\\\\Sorvetes_para_todos_os_gostos.book', 'txt\\\\B\\\\Teoria_geral_do_direito.book', 'txt\\\\B\\\\The_Cat_Who_Tailed_A_Thief.book', 'txt\\\\B\\\\The_Earth_and_Its_Peoples-5th_Ed.book', 'txt\\\\B\\\\The_Relaxation_Response-25th_Anniversary_Edition.book', 'txt\\\\B\\\\The_tropic_of_serpents.book', 'txt\\\\B\\\\Tips_for_the_savvy_traveler.book', 'txt\\\\B\\\\Voyage_of_the_Basilisk.book', 'txt\\\\C\\\\1356.book', 'txt\\\\C\\\\Acesso_a_justica.book', 'txt\\\\C\\\\Albert_Einstein.book', 'txt\\\\C\\\\Alice_no_Pais_das_Maravilhas.book', 'txt\\\\C\\\\Alice_no_Pais_do_Espelho.book', 'txt\\\\C\\\\Antologia_do_Folclore_Brasileiro-Vol_1.book', 'txt\\\\C\\\\Antologia_do_Folclore_Brasileiro-Vol_2.book', 'txt\\\\C\\\\Assassinato_no_campo_de_golfe.book', 'txt\\\\C\\\\As_Coligacoes_de_Kether.book', 'txt\\\\C\\\\As_miserias_do_processo_penal.book', 'txt\\\\C\\\\Ayrton_Senna.book', 'txt\\\\C\\\\A_arvore_de_Judas.book', 'txt\\\\C\\\\A_casa_do_penhasco.book', 'txt\\\\C\\\\A_casa_torta.book', 'txt\\\\C\\\\A_Classical_Primer.book', 'txt\\\\C\\\\A_esperanca.book', 'txt\\\\C\\\\A_extravagancia_do_morto.book', 'txt\\\\C\\\\A_madona_de_cedro.book', 'txt\\\\C\\\\A_Medida_do_Mundo.book', 'txt\\\\C\\\\A_morte_da_culpa_na_responsabilidade_contratual.book', 'txt\\\\C\\\\A_morte_no_Nilo.book', 'txt\\\\C\\\\A_tranca.book', 'txt\\\\C\\\\Banco.book', 'txt\\\\C\\\\Bibliotecas_no_Mundo_Antigo.book', 'txt\\\\C\\\\Cada_homem_e_uma_raca.book', 'txt\\\\C\\\\Cade_a_graca_que_tava_aqui.book', 'txt\\\\C\\\\Cai_o_pano.book', 'txt\\\\C\\\\Cazacurioso.book', 'txt\\\\C\\\\Che_Guevara.book', 'txt\\\\C\\\\Chris_Crawford_on_Game_Design.book', 'txt\\\\C\\\\Chris_Crawford_on_Interactive_Storytelling-2nd_Ed.book', 'txt\\\\C\\\\Chris_Crawford_on_Interactive_Storytelling.book', 'txt\\\\C\\\\Como_se_faz_um_processo.book', 'txt\\\\C\\\\Contos.book', 'txt\\\\C\\\\Contos_do_nascer_da_Terra.book', 'txt\\\\C\\\\Contra_Amazon.book', 'txt\\\\C\\\\Dalai_Lama.book', 'txt\\\\C\\\\Depois_do_funeral.book', 'txt\\\\C\\\\Diccionario_de_creencias_y_supersticiones_argentinas_y_americanas-4a_Ed.book', 'txt\\\\C\\\\Diccionario_Tehuelche.book', 'txt\\\\C\\\\Dicionario_do_Folclore_Brasileiro-10a_ed.book', 'txt\\\\C\\\\Discurso_sobre_o_espirito_positivo.book', 'txt\\\\C\\\\Dominando_o_Expert.book', 'txt\\\\C\\\\Don_Quijote_de_la_Mancha-Ed_IV_Centenario.book', 'txt\\\\C\\\\Eles_os_juizes_vistos_por_um_advogado.book', 'txt\\\\C\\\\Em_chamas.book', 'txt\\\\C\\\\Erzurum_City_Guide-7th_English_Ed.book', 'txt\\\\C\\\\E_o_Bento_Levou.book', 'txt\\\\C\\\\Fadas_no_diva.book', 'txt\\\\C\\\\Furia_de_Principes-O_Caminho_do_Feiticeiro.book', 'txt\\\\C\\\\Furia_de_Principes-O_Caminho_do_Guerreiro.book', 'txt\\\\C\\\\Generative_Programming.book', 'txt\\\\C\\\\Geografia_dos_Mitos_Brasileiros-2a_Ed.book', 'txt\\\\C\\\\Getulio_Vargas.book', 'txt\\\\C\\\\Hare_brain_tortoise_mind.book', 'txt\\\\C\\\\Henri_Cartier-Bresson.book', 'txt\\\\C\\\\Historia_da_Alimentacao_no_Brasil-4a_Ed.book', 'txt\\\\C\\\\JK.book', 'txt\\\\C\\\\Jogos_vorazes.book', 'txt\\\\C\\\\John_Lennon.book', 'txt\\\\C\\\\Lampiao.book', 'txt\\\\C\\\\La_cite_antique.book', 'txt\\\\C\\\\Leila_Diniz.book', 'txt\\\\C\\\\Lendas_Brasileiras.book', 'txt\\\\C\\\\Linguagem_BASIC_MSX.book', 'txt\\\\C\\\\Lisboa_em_Pessoa.book', 'txt\\\\C\\\\Livrarias.book', 'txt\\\\C\\\\Locucoes_Tradicionais_no_Brasil.book', 'txt\\\\C\\\\Machado_de_Assis.book', 'txt\\\\C\\\\Mahatma_Gandhi.book', 'txt\\\\C\\\\Manual_de_pratica_civil.book', 'txt\\\\C\\\\Maos_limpas_e_lava_jato.book', 'txt\\\\C\\\\Mastering_Delphi_2.book', 'txt\\\\C\\\\Minigramatica_da_lingua_portuguesa.book', 'txt\\\\C\\\\Moradas_e_memorias.book', 'txt\\\\C\\\\Natureza_Radical.book', 'txt\\\\C\\\\Notas_sobre_o_anarquismo.book', 'txt\\\\C\\\\Os_cinco_porquinhos.book', 'txt\\\\C\\\\O_cacau_e_show.book', 'txt\\\\C\\\\O_fio_das_missangas.book', 'txt\\\\C\\\\O_livro_dos_santos.book', 'txt\\\\C\\\\O_misterio_de_Sittaford.book', 'txt\\\\C\\\\O_misterio_do_trem_azul.book', 'txt\\\\C\\\\O_Mundo_das_Lendas.book', 'txt\\\\C\\\\O_oitavo_dia.book', 'txt\\\\C\\\\O_ponto_de_mutacao.book', 'txt\\\\C\\\\O_sonho_do_cartografo.book', 'txt\\\\C\\\\O_visitante_inesperado.book', 'txt\\\\C\\\\Passageiro_para_Frankfurt.book', 'txt\\\\C\\\\Por_que_nao_pediram_a_Evans.book', 'txt\\\\C\\\\Programa_de_direito_do_consumidor.book', 'txt\\\\C\\\\Rebelde.book', 'txt\\\\C\\\\Sempreviva.book', 'txt\\\\C\\\\Stonehange-3a_Ed.book', 'txt\\\\C\\\\Supersticao_no_Brasil-5a_Ed.book', 'txt\\\\C\\\\Teorias_da_democracia.book', 'txt\\\\C\\\\Teoria_geral_do_delito_e_da_imputacao_objetiva.book', 'txt\\\\C\\\\Terra_sonambula.book', 'txt\\\\C\\\\The_Art_of_Interactive_Design.book', 'txt\\\\C\\\\The_Awakening-2nd_Ed.book', 'txt\\\\C\\\\The_Power_of_Myth.book', 'txt\\\\C\\\\Tomo_conta_do_mundo.book', 'txt\\\\C\\\\Um_passe_de_magica.book', 'txt\\\\C\\\\Voce_e_insubstituivel.book', 'txt\\\\C\\\\Weird_Things_Customers_Say_in_Bookstores.book', 'txt\\\\D\\\\3D_Math_Primer_for_Graphics_and_Game_Development.book', 'txt\\\\D\\\\Amuyu_Kudehue.book', 'txt\\\\D\\\\A_juba_do_leao.book', 'txt\\\\D\\\\Bivar.book', 'txt\\\\D\\\\Cadeia.book', 'txt\\\\D\\\\Como_Criar_em_Tipografia.book', 'txt\\\\D\\\\Crime_e_Castigo.book', 'txt\\\\D\\\\Curso_de_direito_processual_civil-Vol_1.book', 'txt\\\\D\\\\Curso_de_processo_penal.book', 'txt\\\\D\\\\Discurso_do_Metodo.book', 'txt\\\\D\\\\Garfield-Toneladas_de_diversao.book', 'txt\\\\D\\\\Garfield_Numa_Boa.book', 'txt\\\\D\\\\Justice_for_Hedgehogs.book', 'txt\\\\D\\\\Mitologia.book', 'txt\\\\D\\\\Os_contos_e_os_vigarios.book', 'txt\\\\D\\\\O_cao_dos_Baskervilles.book', 'txt\\\\D\\\\O_Guia_dos_Curiosos-Brasil.book', 'txt\\\\D\\\\O_Guia_dos_Curiosos-Esportes.book', 'txt\\\\D\\\\O_Guia_dos_Curiosos.book', 'txt\\\\D\\\\O_Livro_das_Invencoes.book', 'txt\\\\D\\\\O_roubo_da_coroa_de_berilos.book', 'txt\\\\D\\\\O_signo_dos_quatro.book', 'txt\\\\D\\\\Principios_da_Filosofia.book', 'txt\\\\D\\\\Religiao_e_Magia_no_Antigo_Egito.book', 'txt\\\\D\\\\Shake_Down_the_Stars.book', 'txt\\\\D\\\\Taking_rights_seriously.book', 'txt\\\\D\\\\Teoria_da_Computacao-2a_Ed.book', 'txt\\\\D\\\\The_A-Z_of_Curious_Country_Durham.book', 'txt\\\\D\\\\The_Go_Programming_Language.book', 'txt\\\\D\\\\Um_estudo_em_vermelho.book', 'txt\\\\D\\\\Vamos_matar_o_professor.book', 'txt\\\\D\\\\Vida_e_obra_de_Terencio_Horto.book', 'txt\\\\E\\\\Automating_inequality.book', 'txt\\\\E\\\\A_Ilha_do_Dia_Anterior-5a_Ed.book', 'txt\\\\E\\\\Baudolino-2a_Ed.book', 'txt\\\\E\\\\Cidada_de_segunda_classe.book', 'txt\\\\E\\\\Da_arvore_ao_labirinto.book', 'txt\\\\E\\\\Elogio_da_Loucura.book', 'txt\\\\E\\\\Estonian_Cuisine.book', 'txt\\\\E\\\\Los_peligros_de_fumar_en_la_cama.book', 'txt\\\\E\\\\Nao_contem_com_o_fim_do_livro.book', 'txt\\\\E\\\\Numero_Zero.book', 'txt\\\\E\\\\O_cemiterio_de_praga.book', 'txt\\\\E\\\\O_circulo.book', 'txt\\\\E\\\\O_Nome_da_Rosa.book', 'txt\\\\E\\\\O_Pendulo_de_Foucault-12a_Ed.book', 'txt\\\\F\\\\Agosto.book', 'txt\\\\F\\\\Antigo_Testamento_Interlinear_Hebraico-Portugues-Vol_1.book', 'txt\\\\F\\\\As_100_Melhores_Historias_da_Mitologia.book', 'txt\\\\F\\\\As_Melhores_Historias_da_Mitologia_Africana-2a_Ed.book', 'txt\\\\F\\\\As_melhores_historias_da_mitologia_celta.book', 'txt\\\\F\\\\As_Melhores_Historias_da_Mitologia_Hindu.book', 'txt\\\\F\\\\As_Melhores_Historias_da_Mitologia_Nordica-10a_Ed.book', 'txt\\\\F\\\\A_interpretacao_dos_sonhos-Ed_comemorativa_100_Anos.book', 'txt\\\\F\\\\A_Short_History_of_Drunkenness.book', 'txt\\\\F\\\\Caliba_e_a_bruxa.book', 'txt\\\\F\\\\Chimangos_e_Maragatos.book', 'txt\\\\F\\\\Como_e_Facil_Aprender_Xadrez.book', 'txt\\\\F\\\\Ensaio_Sobre_a_Historia_da_Ordem_dos_Templarios.book', 'txt\\\\F\\\\Explicando_a_Filosofia_com_Arte.book', 'txt\\\\F\\\\Gedicthe-Poesia.book', 'txt\\\\F\\\\Historia_do_Rio_Grande_do_Sul-6a_Ed.book', 'txt\\\\F\\\\Introducao_ao_estudo_do_direito.book', 'txt\\\\F\\\\Juca_Tigre.book', 'txt\\\\F\\\\London-A_Literary_Anthology.book', 'txt\\\\F\\\\Millor_Definitivo.book', 'txt\\\\F\\\\Minidicionario_Aurelio-2a_Ed.book', 'txt\\\\F\\\\Nao_conta_la_em_casa.book', 'txt\\\\F\\\\Os_donos_do_poder-3a_ed.book', 'txt\\\\F\\\\O_caso_dos_exploradores_de_caverna.book', 'txt\\\\F\\\\O_crepusculo_e_a_aurora.book', 'txt\\\\F\\\\O_dia_do_chacal.book', 'txt\\\\F\\\\O_fim_do_mundo.book', 'txt\\\\F\\\\O_homem_do_principio_ao_fim.book', 'txt\\\\F\\\\O_Livro_Vermelho_dos_Pensamentos_de_Millor.book', 'txt\\\\F\\\\Political_Order_and_Political_Decay.book', 'txt\\\\F\\\\Salammbo.book', 'txt\\\\F\\\\San_Miguel.book', 'txt\\\\F\\\\Sem_perdao.book', 'txt\\\\F\\\\TCP-IP_Illustrated-Volume_1-2nd_Ed.book', 'txt\\\\F\\\\Teorias_da_Administracao.book', 'txt\\\\F\\\\The_Anatomy_of_Human_Destructiveness.book', 'txt\\\\F\\\\The_Origins_of_Political_Order.book', 'txt\\\\F\\\\Una_historia_de_la_censura.book', 'txt\\\\F\\\\Viagem_ao_planeta_dos_boatos.book', 'txt\\\\F\\\\Vigiar_e_punir.book', 'txt\\\\G\\\\A_Danca_do_Universo-2a_Ed.book', 'txt\\\\G\\\\A_lei_de_Murphy_na_era_da_informatica.book', 'txt\\\\G\\\\Bullshit_jobs.book', 'txt\\\\G\\\\Cambridge_Advanced_Learners_Dictionary.book', 'txt\\\\G\\\\Comprometida.book', 'txt\\\\G\\\\Coraline.book', 'txt\\\\G\\\\Deuses_americanos.book', 'txt\\\\G\\\\Diario_de_um_Reporter-2a_Ed.book', 'txt\\\\G\\\\Direito_civil_brasileiro-Vol_1-Parte_geral.book', 'txt\\\\G\\\\Dizionario_Essenziale_Portoghese-Italiano_Italiano-Portoghese-2a_Ed.book', 'txt\\\\G\\\\Estatistica.book', 'txt\\\\G\\\\Expresso_do_oriente.book', 'txt\\\\G\\\\Favourite_Teatime_Recipes.book', 'txt\\\\G\\\\Firat.book', 'txt\\\\G\\\\Good_omens.book', 'txt\\\\G\\\\Historias_del_Palacio_Salvo.book', 'txt\\\\G\\\\Hood_Struggle.book', 'txt\\\\G\\\\Interactive_Storytelling.book', 'txt\\\\G\\\\Las_venas_abiertas_de_America_Latina.book', 'txt\\\\G\\\\La_bodega.book', 'txt\\\\G\\\\Los_hijos_de_los_dias.book', 'txt\\\\G\\\\Marilia_de_Dirceu.book', 'txt\\\\G\\\\Maya.book', 'txt\\\\G\\\\Mitologia_Nordica.book', 'txt\\\\G\\\\Nova_antologia_do_conto_russo-2a_Ed.book', 'txt\\\\G\\\\Orgulho_e_preconceito_e_zumbis.book', 'txt\\\\G\\\\Os_filhos_de_Anansi.book', 'txt\\\\G\\\\Os_sofrimentos_do_jovem_Werther.book', 'txt\\\\G\\\\O_dia_do_curinga.book', 'txt\\\\G\\\\O_Livro_das_Religioes.book', 'txt\\\\G\\\\O_Livro_do_Cha.book', 'txt\\\\G\\\\O_nascimento_do_purgatorio.book', 'txt\\\\G\\\\O_oceano_no_fim_do_caminho.book', 'txt\\\\G\\\\O_que_e_isso_companheiro.book', 'txt\\\\G\\\\O_seminarista.book', 'txt\\\\G\\\\O_senhor_das_moscas.book', 'txt\\\\G\\\\Patagonia-Contra_el_viento_y_el_olvido.book', 'txt\\\\G\\\\Por_que_tenho_medo_dos_juizes.book', 'txt\\\\G\\\\SIBGRAPI_2002.book', 'txt\\\\G\\\\Tea-History_terroirs_varieties-2nd_Ed.book', 'txt\\\\G\\\\Telecomunicacoes-13a_Ed.book', 'txt\\\\G\\\\The_Cartoon_History_of_the_Modern_World-Part_I.book', 'txt\\\\G\\\\The_Cartoon_History_of_the_Modern_World-Part_II.book', 'txt\\\\G\\\\The_Cartoon_History_of_the_Universe-Vols_1-7.book', 'txt\\\\G\\\\The_Cartoon_History_of_the_Universe_II-Vols_8-13.book', 'txt\\\\G\\\\The_Cartoon_History_of_the_Universe_III-Vols_14-19.book', 'txt\\\\G\\\\The_Scout_Mindset.book', 'txt\\\\G\\\\Transformacoes_gerais_do_direito_das_obrigacoes.book', 'txt\\\\H\\\\A_estrada_da_noite.book', 'txt\\\\H\\\\Dicionario_Houaiss_da_lingua_portuguesa.book', 'txt\\\\H\\\\Dicionario_Houaiss_Sinonimos_e_antonimos.book', 'txt\\\\H\\\\Dust_or_Magic.book', 'txt\\\\H\\\\Godel_Escher_Bach.book', 'txt\\\\H\\\\Gombo_Zhebes.book', 'txt\\\\H\\\\Henfil_na_China.book', 'txt\\\\H\\\\Horkheimer_Adorno.book', 'txt\\\\H\\\\HP_48G_Series_Quick_Start_Guide.book', 'txt\\\\H\\\\HP_48G_Series_Users_Guide.book', 'txt\\\\H\\\\Investigacao_Sobre_o_Entendimento_Humano.book', 'txt\\\\H\\\\Japanese_Kanji_and_Kana-3rd_Ed.book', 'txt\\\\H\\\\Larousse_das_sobremesas.book', 'txt\\\\H\\\\Larousse_do_chocolate.book', 'txt\\\\H\\\\Lendas_e_narrativas.book', 'txt\\\\H\\\\Leviata.book', 'txt\\\\H\\\\Mestre_das_Chamas.book', 'txt\\\\H\\\\Morrer_e_suceder.book', 'txt\\\\H\\\\Mudanca_estrutural_da_esfera_publica.book', 'txt\\\\H\\\\Os_Economistas.book', 'txt\\\\H\\\\O_feminismo_e_para_todo_mundo.book', 'txt\\\\H\\\\O_homem_cordial.book', 'txt\\\\H\\\\O_silencio_dos_inocentes.book', 'txt\\\\H\\\\O_universo_numa_casca_de_noz.book', 'txt\\\\H\\\\Philosophical_Introductions.book', 'txt\\\\H\\\\Raizes_do_Brasil.book', 'txt\\\\H\\\\Sapiens-33a_Ed.book', 'txt\\\\H\\\\Silicon_Second_Nature-Updated_Edition.book', 'txt\\\\H\\\\Sociedade_do_cansaco.book', 'txt\\\\H\\\\The_Art_of_Electronics-2nd_Ed.book', 'txt\\\\H\\\\The_worldly_philosophers.book', 'txt\\\\H\\\\Uma_Breve_Historia_do_Tempo.book', 'txt\\\\I\\\\Cuentos_de_La_Alhambra.book', 'txt\\\\I\\\\Glorious_American_food.book', 'txt\\\\I\\\\Maximas_e_Minimas_do_Barao_de_Itarare-4a_Ed.book', 'txt\\\\I\\\\O_gigante_enterrado.book', 'txt\\\\J\\\\As_Guerras_de_Trolltooth.book', 'txt\\\\J\\\\A_luta_pelo_direito.book', 'txt\\\\J\\\\Epic_Battles_of_the_Last_Days.book', 'txt\\\\J\\\\Green_River_Killer.book', 'txt\\\\J\\\\GURPS_Modulo_Basico.book', 'txt\\\\J\\\\GURPS_Viagem_no_Tempo.book', 'txt\\\\J\\\\Muumiperhe_Rivieralla.book', 'txt\\\\J\\\\O_homem_e_seus_simbolos-2a_Ed_Especial.book', 'txt\\\\J\\\\O_Pasquim-Antologia-Vol_I.book', 'txt\\\\J\\\\O_Pasquim-Antologia-Vol_II.book', 'txt\\\\J\\\\O_Pasquim-Antologia-Vol_III.book', 'txt\\\\J\\\\Piratas.book', 'txt\\\\J\\\\Prosperity_without_growth.book', 'txt\\\\J\\\\RPG-Aventuras_Fantasticas.book', 'txt\\\\J\\\\Sincronicidade-15a_Ed.book', 'txt\\\\J\\\\There_were_two_trees_in_the_garden.book', 'txt\\\\J\\\\The_Call.book', 'txt\\\\J\\\\The_Final_Quest.book', 'txt\\\\J\\\\The_Journey_Begins.book', 'txt\\\\J\\\\The_language_of_food.book', 'txt\\\\J\\\\The_Vision.book', 'txt\\\\K\\\\Achados_e_perdidos.book', 'txt\\\\K\\\\A_casa_negra.book', 'txt\\\\K\\\\A_incendiaria.book', 'txt\\\\K\\\\A_Look_at_Finnish_History.book', 'txt\\\\K\\\\A_Metamorfose_seguida_de_O_Veredicto.book', 'txt\\\\K\\\\A_Programmers_Introduction_to_Mathematics.book', 'txt\\\\K\\\\A_Religiao_nos_Limites_da_Simples_Razao.book', 'txt\\\\K\\\\A_Theory_of_Fun_for_Game_Design-2nd_Ed.book', 'txt\\\\K\\\\A_torre_negra_I-O_pistoleiro.book', 'txt\\\\K\\\\A_torre_negra_II-A_escolha_dos_tres.book', 'txt\\\\K\\\\A_torre_negra_III-As_terras_devastadas.book', 'txt\\\\K\\\\A_torre_negra_IV-Mago_e_vidro.book', 'txt\\\\K\\\\A_torre_negra_V-Lobos_de_Calla.book', 'txt\\\\K\\\\A_torre_negra_VI-Cancao_de_Susannah.book', 'txt\\\\K\\\\A_torre_negra_VII-A_torre_negra.book', 'txt\\\\K\\\\Carta_ao_pai.book', 'txt\\\\K\\\\Creative_Lettering_and_Beyond.book', 'txt\\\\K\\\\Cujo.book', 'txt\\\\K\\\\Cycle_of_the_werewolf.book', 'txt\\\\K\\\\Designing_Data-Intensive_Applications.book', 'txt\\\\K\\\\Different_Seasons.book', 'txt\\\\K\\\\Dreamcatcher.book', 'txt\\\\K\\\\Duma_Key.book', 'txt\\\\K\\\\Fallen.book', 'txt\\\\K\\\\Four_Past_Midnight.book', 'txt\\\\K\\\\Ideias_para_adiar_o_fim_do_mundo.book', 'txt\\\\K\\\\Insomnia.book', 'txt\\\\K\\\\It.book', 'txt\\\\K\\\\Kalevipoeg.book', 'txt\\\\K\\\\Legends_and_Tales_of_Old_Tallinn.book', 'txt\\\\K\\\\Mala_sangre.book', 'txt\\\\K\\\\Metodos_Estatisticos_Aplicados_ao_Processo_Decisorio.book', 'txt\\\\K\\\\Michaelis_Pequeno_Dicionario_Alemao-Portugues_Portugues-Alemao.book', 'txt\\\\K\\\\Misery.book', 'txt\\\\K\\\\Mr._Mercedes.book', 'txt\\\\K\\\\N..book', 'txt\\\\K\\\\Novembro_de_63.book', 'txt\\\\K\\\\No_ar_rarefeito.book', 'txt\\\\K\\\\On_the_road.book', 'txt\\\\K\\\\O_Canto_da_Sereia.book', 'txt\\\\K\\\\O_Cemiterio.book', 'txt\\\\K\\\\O_direito_pelo_avesso.book', 'txt\\\\K\\\\O_Iluminado.book', 'txt\\\\K\\\\O_mundo_e_o_que_voce_come.book', 'txt\\\\K\\\\O_processo.book', 'txt\\\\K\\\\Paixao.book', 'txt\\\\K\\\\Pesadelos_e_paisagens_noturnas_1.book', 'txt\\\\K\\\\Pesadelos_e_paisagens_noturnas_2.book', 'txt\\\\K\\\\Quem_faz_gemer_a_terra.book', 'txt\\\\K\\\\Raciocinio_Logico_e_Metodos_Quantitativos.book', 'txt\\\\K\\\\Teoria_pura_do_direito.book', 'txt\\\\K\\\\The_Eyes_of_the_Dragon.book', 'txt\\\\K\\\\The_Great_Turning.book', 'txt\\\\K\\\\The_Green_Mile.book', 'txt\\\\K\\\\The_languages_of_the_world.book', 'txt\\\\K\\\\The_Science_of_Monsters.book', 'txt\\\\K\\\\The_secret_life_of_bees.book', 'txt\\\\K\\\\The_stand.book', 'txt\\\\K\\\\The_walking_dead-Book_one.book', 'txt\\\\K\\\\Tormenta.book', 'txt\\\\K\\\\Ultimo_turno.book', 'txt\\\\K\\\\Valsa_para_Bruno_Stein.book', 'txt\\\\K\\\\When_Corporations_Rule_the_World-2nd_Ed.book', 'txt\\\\K\\\\Yhta_Juhlaa.book', 'txt\\\\L\\\\90_livros_classicos_para_apressadinhos.book', 'txt\\\\L\\\\Apoliom.book', 'txt\\\\L\\\\Armagedom.book', 'txt\\\\L\\\\Assassinos.book', 'txt\\\\L\\\\A_Cadeira_de_Prata.book', 'txt\\\\L\\\\A_Cidade_dos_Ladroes.book', 'txt\\\\L\\\\A_Colheita.book', 'txt\\\\L\\\\A_conversa_chegou_a_cozinha.book', 'txt\\\\L\\\\A_guerra_do_fim_do_mundo.book', 'txt\\\\L\\\\A_Marca.book', 'txt\\\\L\\\\A_reforma_da_natureza-O_minotauro.book', 'txt\\\\L\\\\A_Tumba_e_outras_historias.book', 'txt\\\\L\\\\A_ultima_batalha.book', 'txt\\\\L\\\\A_viagem_do_peregrino_da_alvorada.book', 'txt\\\\L\\\\A_Vitoria_Final.book', 'txt\\\\L\\\\Chines_Basico.book', 'txt\\\\L\\\\Comando_Tribulacao.book', 'txt\\\\L\\\\Conversa_na_Catedral.book', 'txt\\\\L\\\\Cozinha_a_quatro_maos.book', 'txt\\\\L\\\\Cozinha_pratica.book', 'txt\\\\L\\\\Deixados_Para_Tras.book', 'txt\\\\L\\\\Diccionario_de_tiranos.book', 'txt\\\\L\\\\DotNet_Game_Programming_with_DirectX_9.0.book', 'txt\\\\L\\\\Fagundes.book', 'txt\\\\L\\\\Ghost_stories_of_old_New_Orleans.book', 'txt\\\\L\\\\Glufico.book', 'txt\\\\L\\\\Guerra_nas_Estrelas-2nd_Ed.book', 'txt\\\\L\\\\Illustrated_Dictionary_of_the_Bible.book', 'txt\\\\L\\\\Kalevala.book', 'txt\\\\L\\\\Lundrico.book', 'txt\\\\L\\\\Macanudo-13.book', 'txt\\\\L\\\\Nas_montanhas_da_loucura.book', 'txt\\\\L\\\\Nicolae.book', 'txt\\\\L\\\\Nigella_bites.book', 'txt\\\\L\\\\Os_cadernos_de_don_Rigoberto.book', 'txt\\\\L\\\\Os_Pecados_da_Lingua-2o_vol.book', 'txt\\\\L\\\\Os_ultimos_dias_de_Pompeia.book', 'txt\\\\L\\\\O_Cavalo_e_seu_Menino.book', 'txt\\\\L\\\\O_dever_de_motivacao_das_decisoes_judiciais.book', 'txt\\\\L\\\\O_Glorioso_Aparecimento.book', 'txt\\\\L\\\\O_Leao_a_Feiticeira_e_o_Guarda-Roupa.book', 'txt\\\\L\\\\O_Manual_da_Internet.book', 'txt\\\\L\\\\O_Possuido.book', 'txt\\\\L\\\\O_Remanescente.book', 'txt\\\\L\\\\O_Sobrinho_do_Mago.book', 'txt\\\\L\\\\Para_nao_dizer_adeus.book', 'txt\\\\L\\\\Penso_logo_me_engano.book', 'txt\\\\L\\\\Principe_Caspian.book', 'txt\\\\L\\\\Proezas_de_Joao_Grilo.book', 'txt\\\\L\\\\Profanacao.book', 'txt\\\\L\\\\Redes_liberdades_e_controle.book', 'txt\\\\L\\\\Secrets_of_Delphi_2.book', 'txt\\\\L\\\\Segundo_tratado_sobre_o_governo_civil.book', 'txt\\\\L\\\\Teoria_da_decisao_judicial.book', 'txt\\\\L\\\\The_dispossessed.book', 'txt\\\\L\\\\Tolices_brilhantes.book', 'txt\\\\L\\\\Um_crime_entre_cavalheiros.book', 'txt\\\\L\\\\Y-por_que_no.book', 'txt\\\\M\\\\Aleluia.book', 'txt\\\\M\\\\Alfabeto_da_sociedade_desorientada.book', 'txt\\\\M\\\\Anedotario_da_Rua_da_Praia_2.book', \"txt\\\\M\\\\Angela's_ashes.book\", 'txt\\\\M\\\\Asalto_a_la_Ilusion.book', 'txt\\\\M\\\\As_melhores_anedotas_do_seculo.book', 'txt\\\\M\\\\A_construcao_social_do_acesso_publico_a_informacao_no_Brasil.book', 'txt\\\\M\\\\A_danca_dos_dragoes.book', 'txt\\\\M\\\\A_furia_dos_reis.book', 'txt\\\\M\\\\A_guerra_dos_tronos.book', 'txt\\\\M\\\\A_motivacao_das_decisoes_civeis.book', 'txt\\\\M\\\\A_subjetividade_do_tempo.book', 'txt\\\\M\\\\A_tormenta_de_espadas.book', 'txt\\\\M\\\\Bruxa_natural.book', 'txt\\\\M\\\\Cien_Anos_de_Soledad-Ed_Conmemorativa.book', 'txt\\\\M\\\\Como_congelar_alimentos_e_pratos_prontos.book', 'txt\\\\M\\\\Como_escrever_tudo_em_frances.book', 'txt\\\\M\\\\Cpp_Builder_How-To.book', 'txt\\\\M\\\\Crepusculo.book', 'txt\\\\M\\\\De_Lesprit_des_lois_1.book', 'txt\\\\M\\\\De_Lesprit_des_lois_2.book', 'txt\\\\M\\\\Diccionario_Mapuche.book', 'txt\\\\M\\\\Dicionario_Grego-Portugues_Portugues-Grego.book', 'txt\\\\M\\\\Digital_Computer_Electronics-2nd_Ed.book', 'txt\\\\M\\\\Direitos_e_contratos_internacionais.book', 'txt\\\\M\\\\Do_inferno.book', 'txt\\\\M\\\\Economical_Writing-3rd_Ed.book', 'txt\\\\M\\\\Effective_Cpp-2nd_Ed.book', 'txt\\\\M\\\\Eleicao_e_Guerra-2a_Ed.book', 'txt\\\\M\\\\Ensaio_Sobre_a_Liberdade.book', 'txt\\\\M\\\\Estudos_sobre_logica_e_direito.book', 'txt\\\\M\\\\Filho_do_Fogo-Volume_1.book', 'txt\\\\M\\\\Filho_do_Fogo-Volume_2.book', 'txt\\\\M\\\\Gossip_from_the_forest.book', 'txt\\\\M\\\\Guerreiros_da_Luz-Volume_1.book', 'txt\\\\M\\\\Guerreiros_da_Luz-Volume_2.book', 'txt\\\\M\\\\Hai-Kais.book', 'txt\\\\M\\\\Hamlet_no_Holodeck.book', 'txt\\\\M\\\\Introducao_a_logica.book', 'txt\\\\M\\\\Jango_e_o_golpe_de_1964_na_caricatura.book', 'txt\\\\M\\\\Jantar_secreto.book', 'txt\\\\M\\\\La_passion_segun_Trelew.book', 'txt\\\\M\\\\Lua_Nova.book', 'txt\\\\M\\\\Making_Comics.book', 'txt\\\\M\\\\Mediacao_e_arbitragem.book', 'txt\\\\M\\\\Minidicionario_Frances-Portugues_Portugues-Frances-6a_Ed.book', 'txt\\\\M\\\\Moby_Dick.book', 'txt\\\\M\\\\More_Effective_Cpp.book', 'txt\\\\M\\\\New_Orleans_stories.book', 'txt\\\\M\\\\O_festim_dos_corvos.book', 'txt\\\\M\\\\O_prazer_das_palavras-Vol_1.book', 'txt\\\\M\\\\O_prazer_das_palavras-Vol_2.book', 'txt\\\\M\\\\O_prazer_das_palavras-Vol_3.book', 'txt\\\\M\\\\O_Principe.book', 'txt\\\\M\\\\O_uso_publico_da_razao.book', 'txt\\\\M\\\\Pinoquio_um_livro_paralelo.book', 'txt\\\\M\\\\Practical_Neural_Networks_Recipes_in_Cpp.book', 'txt\\\\M\\\\Receitas_da_familia.book', 'txt\\\\M\\\\Ruas_estranhas.book', 'txt\\\\M\\\\Ruido_Blanco_6.book', 'txt\\\\M\\\\Sol_da_meia-noite.book', 'txt\\\\M\\\\Team_of_Teams.book', 'txt\\\\M\\\\Teoria_do_fato_juridico-Plano_da_eficacia.book', 'txt\\\\M\\\\Teoria_do_fato_juridico-Plano_da_existencia.book', 'txt\\\\M\\\\Teoria_do_fato_juridico-Plano_da_validade.book', 'txt\\\\M\\\\The_Laws_of_Simplicity.book', 'txt\\\\M\\\\The_Supreme_Court_Landmark_Decisions.book', 'txt\\\\M\\\\Thinking_in_Systems.book', 'txt\\\\M\\\\Tout_Bec_Doux.book', 'txt\\\\M\\\\Ultimate_book_of_sports.book', 'txt\\\\M\\\\Una_Historia_de_la_Lectura-3a_ed.book', 'txt\\\\M\\\\Understanding_Comics.book', 'txt\\\\M\\\\Upgrading_and_Repairing_PCs-Tenth_Anniversary_Ed.book', 'txt\\\\M\\\\Utilitarismo.book', 'txt\\\\M\\\\Utopia.book', 'txt\\\\M\\\\Veredas_de_um_Leopoldense-2a_Ed.book', 'txt\\\\M\\\\V_for_Vendetta.book', 'txt\\\\M\\\\What_If.book', 'txt\\\\N\\\\A_fragilidade_da_bondade.book', 'txt\\\\N\\\\A_Gaia_Ciencia.book', 'txt\\\\N\\\\Building_Microservices.book', 'txt\\\\N\\\\Casos_do_Romualdo.book', 'txt\\\\N\\\\Contos_aterrorizantes.book', 'txt\\\\N\\\\Contos_Gauchescos_e_Lendas_do_Sul.book', 'txt\\\\N\\\\Declaracao_Isto_nao_e_um_manifesto.book', 'txt\\\\N\\\\Desvendando_o_PC-6a_Ed.book', 'txt\\\\N\\\\De_volta.book', 'txt\\\\N\\\\Einstein-Uma_biografia.book', 'txt\\\\N\\\\Geeks_Bearing_Gifts-v1.1.book', 'txt\\\\N\\\\How_To_Invent_Everything.book', 'txt\\\\N\\\\Introducao_ao_Estudo_do_Direito.book', 'txt\\\\N\\\\Jung_e_o_taro.book', 'txt\\\\N\\\\Lonely_Planet_Brazil-5th_ed.book', 'txt\\\\N\\\\Nicaragua.book', 'txt\\\\N\\\\O_Dom.book', 'txt\\\\N\\\\O_poder_constituinte.book', 'txt\\\\N\\\\Sistemas_Eleitorais-5a_Ed.book', 'txt\\\\N\\\\The_Design_of_Everyday_Things-2002_Ed.book', 'txt\\\\O\\\\A_revolucao_dos_bichos.book', 'txt\\\\O\\\\Che.book', 'txt\\\\O\\\\Contar_a_lei.book', 'txt\\\\O\\\\Diccionario_de_la_lengua_nahuatl.book', 'txt\\\\O\\\\Eu_Malika_Oufkir_prisioneira_do_rei.book', 'txt\\\\O\\\\La_vida_breve.book', 'txt\\\\O\\\\Le_bucher_de_Montsegur.book', 'txt\\\\O\\\\Luzia-Homem.book', 'txt\\\\O\\\\Manual_de_pratica_trabalhista.book', 'txt\\\\O\\\\Manual_de_sociologia_juridica.book', 'txt\\\\O\\\\Mitos_de_Linguagem.book', 'txt\\\\O\\\\O_Supremo.book', 'txt\\\\O\\\\O_tempo_do_direito.book', 'txt\\\\O\\\\Patagonia_Ficcion_y_realidad_Fiction_and_reality.book', 'txt\\\\O\\\\SIBGRAPI_2003.book', 'txt\\\\O\\\\Weapons_of_math_destruction.book', 'txt\\\\P\\\\A_evolucao_das_coisas_uteis.book', 'txt\\\\P\\\\A_Map_that_Reflects_the_Territory-Agency.book', 'txt\\\\P\\\\A_Map_that_Reflects_the_Territory-Alignment.book', 'txt\\\\P\\\\A_Map_that_Reflects_the_Territory-Coordination.book', 'txt\\\\P\\\\A_Map_that_Reflects_the_Territory-Curiosity.book', 'txt\\\\P\\\\A_Map_that_Reflects_the_Territory-Epistemology.book', 'txt\\\\P\\\\A_Republica-Parte_I.book', 'txt\\\\P\\\\A_Republica-Parte_II.book', 'txt\\\\P\\\\A_vida_nao_e_justa.book', 'txt\\\\P\\\\Brisingr.book', 'txt\\\\P\\\\Campaign_War_Stories.book', 'txt\\\\P\\\\Como_a_Mente_Funciona.book', 'txt\\\\P\\\\Contos_de_imaginacao_e_misterio.book', 'txt\\\\P\\\\Desenvolva_sua_Inteligencia.book', 'txt\\\\P\\\\Do_que_e_feito_o_pensamento.book', 'txt\\\\P\\\\Eldest.book', 'txt\\\\P\\\\Em_Defesa_da_Comida.book', 'txt\\\\P\\\\Eragon.book', 'txt\\\\P\\\\Heranca.book', 'txt\\\\P\\\\Historia_do_Rio_Grande_do_Sul.book', 'txt\\\\P\\\\Inside_the_carnival.book', 'txt\\\\P\\\\Introducao_didatica_ao_direito.book', 'txt\\\\P\\\\Kar.book', 'txt\\\\P\\\\Livro_do_desassossego-3a_Ed.book', 'txt\\\\P\\\\Mensagem.book', 'txt\\\\P\\\\Mitologia_Grega.book', 'txt\\\\P\\\\New_moon_rising.book', 'txt\\\\P\\\\O_banqueiro_anarquista.book', 'txt\\\\P\\\\O_Capital_no_Seculo_XXI.book', 'txt\\\\P\\\\O_episodio_do_Ferrabraz.book', 'txt\\\\P\\\\O_Pacto.book', 'txt\\\\P\\\\O_Quatrilho.book', 'txt\\\\P\\\\O_Relato_de_Arthur_Gordon_Pym.book', 'txt\\\\P\\\\O_silencio_da_casa_fria.book', 'txt\\\\P\\\\Poesia_completa_de_Alberto_Caeiro.book', 'txt\\\\P\\\\Rosamundo_e_os_outros.book', 'txt\\\\P\\\\Segredo_de_justica.book', 'txt\\\\P\\\\Supernatural_England.book', 'txt\\\\P\\\\The_black_box_society.book', 'txt\\\\P\\\\The_Brazilians.book', 'txt\\\\P\\\\The_Flavor_Bible.book', 'txt\\\\P\\\\The_Language_Instinct.book', 'txt\\\\P\\\\The_Sense_of_Style.book', 'txt\\\\P\\\\The_Sicilian.book', 'txt\\\\P\\\\Thirty-Six_Dramatic_Situations.book', 'txt\\\\P\\\\Troubleshooting_Analog_Circuits.book', 'txt\\\\Q\\\\Cuentos_de_amor_de_locura_y_de_muerte.book', 'txt\\\\Q\\\\El_salvaje.book', 'txt\\\\Q\\\\O_Livro_Verde.book', 'txt\\\\Q\\\\Quintana_de_bolso.book', 'txt\\\\Q\\\\The_Versailles_Restaurant_Cookbook.book', 'txt\\\\Q\\\\Toda_Mafalda-17a_Ed.book', 'txt\\\\Q\\\\Yo_No_Fui-8a_Ed.book', 'txt\\\\R\\\\AI_Game_Programming_Wisdom.book', 'txt\\\\R\\\\America_Mitica.book', 'txt\\\\R\\\\Archipielago.book', 'txt\\\\R\\\\Artificial_Intelligence-2nd_Ed.book', 'txt\\\\R\\\\A_esquerda_do_direito.book', 'txt\\\\R\\\\A_historia_completa_de_Lampiao_e_Maria_Bonita.book', 'txt\\\\R\\\\A_morte_e_uma_festa.book', 'txt\\\\R\\\\A_World_History_of_Photography-3rd_Ed.book', 'txt\\\\R\\\\Bangladesh.book', 'txt\\\\R\\\\Chaplin-Uma_biografia_definitiva.book', 'txt\\\\R\\\\Cidade_dos_etereos.book', 'txt\\\\R\\\\Como_decidem_as_cortes.book', 'txt\\\\R\\\\Cpp_Neural_Networks_and_Fuzzy_Logic-2nd_Ed.book', 'txt\\\\R\\\\Curso_de_direito_de_familia_contemporaneo.book', 'txt\\\\R\\\\Dez_dias_que_abalaram_o_mundo.book', 'txt\\\\R\\\\Ecos.book', 'txt\\\\R\\\\Einstein-O_enigma_do_universo.book', 'txt\\\\R\\\\Fuga_do_direito.book', 'txt\\\\R\\\\Guarda_compartilhada_coativa.book', 'txt\\\\R\\\\Joy_of_cooking.book', 'txt\\\\R\\\\Lucidez.book', 'txt\\\\R\\\\MSX_Jogos_em_Assembler.book', 'txt\\\\R\\\\Nemesis.book', 'txt\\\\R\\\\Netto_perde_sua_alma.book', 'txt\\\\R\\\\Ninguem_e_de_ninguem.book', 'txt\\\\R\\\\O_Contrato_Social.book', 'txt\\\\R\\\\O_Ickabog.book', 'txt\\\\R\\\\O_orfanato_da_srta._Peregrine_para_criancas_peculiares.book', 'txt\\\\R\\\\O_Povo_Brasileiro.book', 'txt\\\\R\\\\O_que_e_lugar_de_fala.book', 'txt\\\\R\\\\Percy_Jackson_e_os_deuses_gregos.book', 'txt\\\\R\\\\Quem_tem_medo_do_feminismo_negro.book', 'txt\\\\R\\\\Receitas_de_sobremesas.book', 'txt\\\\R\\\\Ted_Bundy.book', 'txt\\\\R\\\\The_color_of_law.book', 'txt\\\\R\\\\The_Winn_L_Rosch_Hardware_Bible-3rd_Ed.book', 'txt\\\\R\\\\Uma_teoria_da_justica.book', 'txt\\\\R\\\\Viva_o_povo_brasileiro-Ed_30_anos.book', 'txt\\\\S\\\\45_Master_Characters.book', 'txt\\\\S\\\\Acesso_a_informacao_como_direito_fundamental_e_dever_estatal.book', 'txt\\\\S\\\\Algorithms_in_Cpp-3rd_Ed-Vol_1.book', 'txt\\\\S\\\\Algorithms_in_Cpp-3rd_Ed-Vol_2.book', 'txt\\\\S\\\\Alternativas_sistemicas.book', 'txt\\\\S\\\\Antigona.book', 'txt\\\\S\\\\As_Melhores_Historias_da_Mitologia_Egipcia.book', 'txt\\\\S\\\\As_melhores_historias_da_mitologia_japonesa.book', 'txt\\\\S\\\\As_Melhores_Tiras_da_Monica.book', 'txt\\\\S\\\\As_tiras_classicas_da_Turma_da_Monica_vol_1.book', 'txt\\\\S\\\\A_arte_de_ter_razao.book', 'txt\\\\S\\\\A_caverna.book', 'txt\\\\S\\\\A_companheira_de_viagem-14a_Ed.book', 'txt\\\\S\\\\A_Elite_do_Atraso.book', 'txt\\\\S\\\\A_faca_de_dois_gumes.book', 'txt\\\\S\\\\A_mulher_do_vizinho.book', 'txt\\\\S\\\\A_Mulher_na_Guerra_dos_Farrapos-2a_Ed.book', 'txt\\\\S\\\\A_repercussao_geral_no_recurso_extraordinario.book', 'txt\\\\S\\\\A_Teologia_Contemporanea_na_America_Latina_e_no_Caribe.book', 'txt\\\\S\\\\A_Viagem_do_Elefante.book', 'txt\\\\S\\\\Civil_e_empresarial.book', 'txt\\\\S\\\\CLT_Saraiva_Academica_e_Constituicao_Federal.book', 'txt\\\\S\\\\Como_Faziamos_Sem.book', 'txt\\\\S\\\\Corredor_Polones.book', 'txt\\\\S\\\\C_Cpp_Programmers_Reference.book', 'txt\\\\S\\\\Designing_Games.book', 'txt\\\\S\\\\Dracula.book', 'txt\\\\S\\\\Em_defesa_de_Cristo.book', 'txt\\\\S\\\\Ensaio_sobre_a_cegueira.book', 'txt\\\\S\\\\Eyewitness_Travel_Turkey.book', 'txt\\\\S\\\\Folclore_da_menstruacao.book', 'txt\\\\S\\\\Frankenstein.book', 'txt\\\\S\\\\Garlic_Cookery.book', 'txt\\\\S\\\\Gullivers_Travels.book', 'txt\\\\S\\\\Hermeneutica.book', 'txt\\\\S\\\\Historia_do_Cerco_de_Lisboa.book', 'txt\\\\S\\\\Historia_regional_da_infamia.book', 'txt\\\\S\\\\Iugoslavia-Guerra_civil_e_desintegracao.book', \"txt\\\\S\\\\Joe_Simmer's_Creole_slow_cooking.book\", 'txt\\\\S\\\\Justica_de_transicao.book', 'txt\\\\S\\\\Kidnapped.book', 'txt\\\\S\\\\Levantado_do_chao.book', 'txt\\\\S\\\\Le_Petit_Prince.book', 'txt\\\\S\\\\Licoes_de_critica_hermeneutica_do_direito.book', 'txt\\\\S\\\\Looking_at_Photographs.book', 'txt\\\\S\\\\Madness_in_Civilization.book', 'txt\\\\S\\\\Manual_de_sociologia_juridica.book', 'txt\\\\S\\\\Martini_Seco.book', 'txt\\\\S\\\\Marxismo_e_liberalismo.book', 'txt\\\\S\\\\Mastering_PostgreSQL_12-3rd_Ed.book', 'txt\\\\S\\\\Maus.book', 'txt\\\\S\\\\Memorial_do_convento.book', 'txt\\\\S\\\\Mil_piadas_do_Brasil.book', 'txt\\\\S\\\\Minicodigo_Saraiva_penal_constituicao_federal_e_legislacao_complementar.book', 'txt\\\\S\\\\Minicodigo_Saraiva_Processo_penal_Constituicao_Federal_e_legislacao_complementar.book', 'txt\\\\S\\\\Miragem.book', 'txt\\\\S\\\\Nao_Ta_Morto_Quem_Peleia.book', 'txt\\\\S\\\\Newcastle_Upon_Tyne_Dialect.book', 'txt\\\\S\\\\Nunca_desista_de_seus_sonhos.book', 'txt\\\\S\\\\O_ciclo_das_aguas.book', 'txt\\\\S\\\\O_encontro_marcado.book', 'txt\\\\S\\\\O_homem_que_matou_Getulio_Vargas-2a_Ed.book', 'txt\\\\S\\\\O_livro_do_travesseiro.book', 'txt\\\\S\\\\O_Medico_e_o_Monstro.book', 'txt\\\\S\\\\O_Mercador_de_Veneza.book', 'txt\\\\S\\\\O_que_e_isto_Decido_conforme_minha_consciencia.book', 'txt\\\\S\\\\O_que_e_isto_O_senso_incomum.book', 'txt\\\\S\\\\Petit_Gateau_e_outros_bolinhos_doces_e_cremosos.book', 'txt\\\\S\\\\Reconhecimento_de_entidades_mencionadas_em_portugues.book', 'txt\\\\S\\\\Romeo_e_Giulietta.book', 'txt\\\\S\\\\Sangue_Suor_e_Pixels.book', 'txt\\\\S\\\\Santugri.book', 'txt\\\\S\\\\Snoopy-E_Natal.book', 'txt\\\\S\\\\Snoopy-Feliz_Dia_dos_Namorados.book', 'txt\\\\S\\\\Snoopy-Posso_fazer_uma_pergunta_professora.book', 'txt\\\\S\\\\Snoopy_e_sua_turma.book', 'txt\\\\S\\\\Sonho_de_uma_noite_de_verao.book', 'txt\\\\S\\\\South.book', 'txt\\\\S\\\\STL_Programming_from_the_Ground_Up.book', 'txt\\\\S\\\\Stocks_for_the_long_run.book', 'txt\\\\S\\\\Sumulas_repercussao_geral_e_recursos_repetitivos.book', 'txt\\\\S\\\\Teatro_completo-v.1-Comedias.book', 'txt\\\\S\\\\Teatro_completo-v.2-Tragedias.book', 'txt\\\\S\\\\Teatro_completo-v.3-Entremezes.book', 'txt\\\\S\\\\Teatro_completo-v.4-Teatro_traduzido.book', 'txt\\\\S\\\\Teste_de_Rorschach.book', 'txt\\\\S\\\\The_Art_of_Game_Design-A_Book_of_Lenses-2nd_Ed.book', 'txt\\\\S\\\\The_Complete_Peanuts-1963-1964.book', 'txt\\\\S\\\\The_Complete_Peanuts-1965-1966.book', 'txt\\\\S\\\\The_Cpp_Programming_Language-Special_Ed.book', 'txt\\\\S\\\\The_Photographers_Eye.book', 'txt\\\\S\\\\Vavau_Mania.book', 'txt\\\\T\\\\20_Master_Plots.book', 'txt\\\\T\\\\500_Anos.book', 'txt\\\\T\\\\A_forma_da_agua.book', 'txt\\\\T\\\\CASA_2004.book', 'txt\\\\T\\\\Computer_Animation_and_Virtual_Worlds-Vol_15-No_3-4.book', 'txt\\\\T\\\\Contos_da_Siberia.book', 'txt\\\\T\\\\Crow_killer.book', 'txt\\\\T\\\\Curso_de_direito_processual_civil-Vol_III.book', 'txt\\\\T\\\\Desterros.book', 'txt\\\\T\\\\Dibujos_Invisibles.book', 'txt\\\\T\\\\Direito_civil-Vol_2.book', 'txt\\\\T\\\\La_ultima_ballena.book', 'txt\\\\T\\\\O_avesso_da_pele.book', 'txt\\\\T\\\\O_Hobbit-2a_ed.book', 'txt\\\\T\\\\O_Homem_Que_Calculava-46a_Ed.book', 'txt\\\\T\\\\O_Senhor_dos_Aneis-Vol_1.book', 'txt\\\\T\\\\O_Senhor_dos_Aneis-Vol_2.book', 'txt\\\\T\\\\O_Senhor_dos_Aneis-Vol_3.book', 'txt\\\\T\\\\O_Silmarillion-4a_ed.book', 'txt\\\\T\\\\Processo_civil_no_direito_de_familia.book', 'txt\\\\T\\\\Recetario.book', 'txt\\\\T\\\\Tute.book', 'txt\\\\T\\\\Voodoo_in_New_Orleans.book', 'txt\\\\V\\\\Acesso_a_informacao_publica.book', 'txt\\\\V\\\\Alemao_para_Viagem.book', 'txt\\\\V\\\\America.book', 'txt\\\\V\\\\As_Cobras.book', 'txt\\\\V\\\\A_Africa_Moderna.book', 'txt\\\\V\\\\A_mesa_voadora.book', 'txt\\\\V\\\\A_noite_maldita.book', 'txt\\\\V\\\\Breve_Historia_da_Africa.book', 'txt\\\\V\\\\Candido.book', 'txt\\\\V\\\\Computational_Processing_of_the_Portuguese_Language.book', 'txt\\\\V\\\\Fantoches_e_outros_contos-14a_Ed.book', 'txt\\\\V\\\\Gramatica_latina_para_o_ginasio.book', 'txt\\\\V\\\\Guia_de_Conversacao-Frances.book', 'txt\\\\V\\\\Guia_de_Conversacao-Ingles.book', 'txt\\\\V\\\\Incidente_em_Antares.book', 'txt\\\\V\\\\La_guerra_di_Troia.book', 'txt\\\\V\\\\Operacao_banqueiro.book', 'txt\\\\V\\\\Orgias.book', 'txt\\\\V\\\\O_Arquipelago-Vol_1-3a_Ed.book', 'txt\\\\V\\\\O_Arquipelago-Vol_2-3a_Ed.book', 'txt\\\\V\\\\O_Arquipelago-Vol_3-3a_Ed.book', 'txt\\\\V\\\\O_caminho_do_poco_das_lagrimas.book', 'txt\\\\V\\\\O_clube_dos_anjos.book', 'txt\\\\V\\\\O_Continente-Vol_1-3a_Ed.book', 'txt\\\\V\\\\O_Continente-Vol_2-3a_Ed.book', 'txt\\\\V\\\\O_jardim_do_diabo.book', 'txt\\\\V\\\\O_opositor.book', 'txt\\\\V\\\\O_Palacio_Japones-13a_Ed.book', 'txt\\\\V\\\\O_Retrato-Vol_1-3a_Ed.book', 'txt\\\\V\\\\O_Retrato-Vol_2-3a_Ed.book', 'txt\\\\V\\\\O_suicida_e_o_computador.book', 'txt\\\\V\\\\O_Turno_da_Noite-Volume_3.book', 'txt\\\\V\\\\O_Vampiro-Rei-Volume_1.book', 'txt\\\\V\\\\O_Vampiro-Rei-Volume_2.book', 'txt\\\\V\\\\Spurious_correlations.book', 'txt\\\\V\\\\Unix_Internals.book', 'txt\\\\V\\\\Verissimas.book', 'txt\\\\W\\\\Arabic-English_dictionary-Vol_1.book', 'txt\\\\W\\\\Arabic-English_dictionary-Vol_2.book', 'txt\\\\W\\\\Dicionario_Wahrig_Alemao.book', 'txt\\\\W\\\\Estrelas_fritas_com_acucar.book', 'txt\\\\W\\\\First_Person.book', 'txt\\\\W\\\\Hackers_Delight-2nd_Ed.book', 'txt\\\\W\\\\Ha_Monstros_Debaixo_da_Cama-5_ed.book', 'txt\\\\W\\\\Introducao_ao_pensamento_juridico_critico.book', 'txt\\\\W\\\\Liberty.book', 'txt\\\\W\\\\Nao_entendo_muito_de_vinho_mas_sei_do_que_gosto.book', 'txt\\\\W\\\\New_Orleans_classic_desserts.book', 'txt\\\\W\\\\O_Mundo_e_Magico.book', 'txt\\\\W\\\\O_pai_dos_burros.book', 'txt\\\\W\\\\O_que_Einstein_disse_a_seu_cozinheiro.book', 'txt\\\\W\\\\O_que_Einstein_disse_a_seu_cozinheiro_2.book', 'txt\\\\W\\\\Planeta_Rebelde.book', 'txt\\\\W\\\\The_World_Without_Us.book', 'txt\\\\W\\\\Tudo_Tem_Uma_Historia.book', 'txt\\\\Y\\\\fisl_7.0.book', 'txt\\\\Y\\\\Map_and_Territory.book', 'txt\\\\Y\\\\Mil_vezes_mais_justo.book', 'txt\\\\Y\\\\MSX_Jogos-Volume_II.book', 'txt\\\\Z\\\\ACM_SIGCHI_ACE05.book', 'txt\\\\Z\\\\Germinal.book', 'txt\\\\Z\\\\O_ano_em_que_sonhamos_perigosamente.book', 'txt\\\\Z\\\\Religioes-Crencas_e_Crendices-4a_Ed.book', 'txt\\\\_\\\\About_Sami_Mythology.book', 'txt\\\\_\\\\A_grande_cozinha_Coqueteis_e_aperitivos.book', 'txt\\\\_\\\\A_grande_cozinha_Cozinha_mediterranea.book', 'txt\\\\_\\\\A_grande_cozinha_Docinhos_e_biscoitos.book', 'txt\\\\_\\\\A_grande_cozinha_Massas.book', 'txt\\\\_\\\\A_grande_cozinha_Paes_e_cia.book', 'txt\\\\_\\\\A_grande_cozinha_Queijos.book', 'txt\\\\_\\\\Bescherelle-La_conjugaison_pour_tous.book', 'txt\\\\_\\\\Canzioni_Italiane.book', 'txt\\\\_\\\\Classic_horror_tales.book', 'txt\\\\_\\\\Colecao_Senac_de_Fotografia-v.1-Luis_Humberto.book', 'txt\\\\_\\\\Colecao_Senac_de_Fotografia-v.2-Helio_Campos_Mello.book', 'txt\\\\_\\\\Cozinha_para_principiantes.book', 'txt\\\\_\\\\Cupcakes.book', 'txt\\\\_\\\\Dicionario_Latim-Portugues_Portugues-Latim.book', 'txt\\\\_\\\\Doces_caseiros.book', 'txt\\\\_\\\\Eden_Project.book', 'txt\\\\_\\\\Geneve-Guide_pratique_2004_05.book', 'txt\\\\_\\\\Guiness_Book_1995.book', 'txt\\\\_\\\\Highgate_cemetery.book', 'txt\\\\_\\\\I_Ching.book', 'txt\\\\_\\\\Koken_in_de_wereld-Griekenland.book', 'txt\\\\_\\\\Koken_in_de_wereld-Indonesie.book', 'txt\\\\_\\\\Koken_in_de_wereld-Spanje.book', 'txt\\\\_\\\\Larousse_da_Cozinha_do_Mundo-Americas.book', 'txt\\\\_\\\\Larousse_da_Cozinha_do_Mundo-Asia_e_Oceania.book', 'txt\\\\_\\\\Larousse_da_Cozinha_do_Mundo-Europa_e_Escandinavia.book', 'txt\\\\_\\\\Larousse_da_Cozinha_do_Mundo-Mediterraneo_e_Europa_Central.book', 'txt\\\\_\\\\Larousse_da_Cozinha_do_Mundo-Oriente_Medio_Africa_e_Indico.book', 'txt\\\\_\\\\Livro_das_mil_e_noites-Vol_1.book', 'txt\\\\_\\\\Livro_das_mil_e_noites-Vol_2.book', 'txt\\\\_\\\\Livro_das_mil_e_noites-Vol_3.book', 'txt\\\\_\\\\Livro_das_mil_e_noites-Vol_4.book', 'txt\\\\_\\\\Pateta_Faz_Historia-Vol_01-DaVinci_Newton.book', 'txt\\\\_\\\\Pateta_Faz_Historia-Vol_02-Colombo_Strauss.book', 'txt\\\\_\\\\Pateta_Faz_Historia-Vol_03-Galileu_Vasco.book', 'txt\\\\_\\\\Pateta_Faz_Historia-Vol_04-Beethoven_Boone.book', 'txt\\\\_\\\\Pateta_Faz_Historia-Vol_05-Franklin_Eiffel.book', 'txt\\\\_\\\\Pateta_Faz_Historia-Vol_06-Frankenstein_Cleopatra.book', 'txt\\\\_\\\\Pateta_Faz_Historia-Vol_07-Pasteur_Quixote.book', 'txt\\\\_\\\\Pateta_Faz_Historia-Vol_08-Gutenberg_Casanova.book', 'txt\\\\_\\\\Pateta_Faz_Historia-Vol_09-Polo_Goethe.book', 'txt\\\\_\\\\Pateta_Faz_Historia-Vol_10-Ulisses_Anibal.book', 'txt\\\\_\\\\Pateta_Faz_Historia-Vol_11_20000_Leguas_Barnum.book', 'txt\\\\_\\\\Pateta_Faz_Historia-Vol_12-Homem_Invisivel_Imperio_Romano.book', 'txt\\\\_\\\\Pateta_Faz_Historia-Vol_13-Arquimedes_Hercules.book', 'txt\\\\_\\\\Pateta_Faz_Historia-Vol_14-Rei_Arthur_Ali_Baba.book', 'txt\\\\_\\\\Pateta_Faz_Historia-Vol_15-Tutancamon_Rip_Van_Winkle.book', 'txt\\\\_\\\\Pateta_Faz_Historia-Vol_16-Khan_Stradivari.book', 'txt\\\\_\\\\Pateta_Faz_Historia-Vol_17-Tell_Crusoe.book', 'txt\\\\_\\\\Pateta_Faz_Historia-Vol_18-Midas_Medico_e_Monstro.book', 'txt\\\\_\\\\Pateta_Faz_Historia-Vol_19-Volta_Mundo_80_Dias_Aladim.book', 'txt\\\\_\\\\Pateta_Faz_Historia-Vol_20-Teatro_Disney.book', 'txt\\\\_\\\\Pre-Socraticos.book', 'txt\\\\_\\\\Preparos_de_liquidificador.book', 'txt\\\\_\\\\Quick_thrifty_cooking.book', 'txt\\\\_\\\\Receitas_caseiras_Sopas.book', 'txt\\\\_\\\\Revista_sintese.book', 'txt\\\\_\\\\Seguranca_Maxima_para_Linux.book', 'txt\\\\_\\\\The_Bon_Appetit_Kitchen_Collection-Chocolate_desserts.book', 'txt\\\\_\\\\The_Bon_Appetit_Kitchen_Collection-Favorite_Cookies.book', 'txt\\\\_\\\\The_Bon_Appetit_Kitchen_Collection-Gifts_from_your_kitchen.book', 'txt\\\\_\\\\The_Deep.book', 'txt\\\\_\\\\The_Greek-English_New_Testament.book', 'txt\\\\_\\\\The_Holy_Bible-KJV.book', 'txt\\\\_\\\\The_top_100_cajun_recipes_of_all_time.book', 'txt\\\\_\\\\This_is_Durham.book', 'txt\\\\_\\\\Viagens_gastronomicas.book'])\n"
     ]
    }
   ],
   "source": [
    "print (all_books.keys()[0])"
   ]
  },
  {
   "cell_type": "code",
   "execution_count": 9,
   "id": "766adbd9",
   "metadata": {},
   "outputs": [
    {
     "name": "stdout",
     "output_type": "stream",
     "text": [
      "[{'type': 'book'}, {'subtype': 'nonfiction'}, {'subtype': 'biography'}, {'subtype': 'travelogue'}, {'title': 'Antonia e suas filhas'}, {'subtitle': 'Segredos, amor, amizade e família na Toscana'}, {'author': 'Marlena de Blasi'}, {'translator': 'Livia de Almeida'}, {'publisher': 'Sextante'}, {'year': '2013'}, {'year_first_publication': '2012'}, {'num_pages': '206'}, {'isbn': '978-85-7542-955-6'}, {'dewey_decimal_class': '914.58'}, {'universal_decimal_class': '913(450.82)'}, {'lang': 'pt_BR'}, {'original_lang': 'en'}, {'original_title': 'Antonia and her daughters'}, {'keyword': 'Italy'}, {'keyword': 'Tuscany'}, {'keyword': 'travel'}, {'keyword': 'women'}, {'keyword': 'country life'}, {'keyword': 'family'}, {'keyword': 'secrets'}, {'keyword': 'World War 2'}, {'keyword': 'World War II'}]\n"
     ]
    }
   ],
   "source": [
    "print (all_books['txt\\\\B\\\\Antonia_e_suas_filhas.book'])"
   ]
  },
  {
   "cell_type": "code",
   "execution_count": 10,
   "id": "2b90e8ee",
   "metadata": {},
   "outputs": [
    {
     "name": "stdout",
     "output_type": "stream",
     "text": [
      "[{'type': 'book'}, {'subtype': 'fiction'}, {'subtype': 'gamebook'}, {'title': 'Fúria de Príncipes'}, {'subtitle': 'O Caminho do Guerreiro'}, {'author': 'Andrew Chapman'}, {'author': 'Martin Allen'}, {'contributor': 'John Blanche'}, {'translator': 'Lilia Oliveira'}, {'publisher': 'Marques Saraiva'}, {'year': '1991'}, {'year_first_publication': '1986'}, {'isbn': '85-85238-30-5'}, {'lang': 'pt_BR'}, {'original_lang': 'en'}, {'original_title': 'Clash of Princes'}, {'original_subtitle': \"The Warrior's Way\"}, {'keyword': 'Lothar'}, {'keyword': 'Colthar'}, {'keyword': 'Gundobad'}]\n"
     ]
    }
   ],
   "source": [
    "print (all_books['txt\\\\C\\\\Furia_de_Principes-O_Caminho_do_Guerreiro.book'])"
   ]
  },
  {
   "cell_type": "code",
   "execution_count": 64,
   "id": "3966d94a",
   "metadata": {},
   "outputs": [
    {
     "name": "stdout",
     "output_type": "stream",
     "text": [
      "Starting: 2021-08-02 14:48:44.472318\n",
      ".........................................................................................................................................................................................................................................................................................................................................................................................................................................................................................................................................................................................................................................................................................................................................................................................................................................................................................................................................................................................................Finished: 2021-08-02 15:02:12.960550\n"
     ]
    }
   ],
   "source": [
    "import sqlite3\n",
    "\n",
    "from datetime import datetime\n",
    "\n",
    "now = datetime.now()\n",
    "print ('Starting:', now)\n",
    "\n",
    "conn = sqlite3.connect('D:\\\\DB\\\\sqlite\\\\books.db')\n",
    "cursor = conn.cursor()\n",
    "cursor.execute('delete from item')\n",
    "conn.commit()\n",
    "cursor.execute('delete from item_property')\n",
    "conn.commit()\n",
    "\n",
    "for bookfile in all_books:\n",
    "    ins_item_cmd = 'insert into item (filename) values (?)'\n",
    "    cursor.execute(ins_item_cmd, (bookfile.strip(),))\n",
    "    #print (ins_item_cmd, '---', bookfile.strip())\n",
    "    print ('.', end='')\n",
    "    conn.commit()\n",
    "    cursor.execute('select last_insert_rowid()')\n",
    "    item_id = cursor.fetchall()[0][0]\n",
    "    \n",
    "    for prop_dict in all_books[bookfile]:\n",
    "        for prop in prop_dict:\n",
    "            ins_prop_cmd = 'insert into item_property (item_id, property, value) values (?, ?, ?)'\n",
    "            prop_tuple = (item_id, prop, prop_dict[prop],)\n",
    "            cursor.execute(ins_prop_cmd, prop_tuple)\n",
    "            #print (ins_prop_cmd, '---', prop_tuple)\n",
    "            conn.commit()            \n",
    "\n",
    "conn.close()\n",
    "\n",
    "now = datetime.now()\n",
    "print ('Finished:', now)"
   ]
  },
  {
   "cell_type": "code",
   "execution_count": null,
   "id": "5abb5128",
   "metadata": {},
   "outputs": [],
   "source": []
  }
 ],
 "metadata": {
  "kernelspec": {
   "display_name": "Python 3",
   "language": "python",
   "name": "python3"
  },
  "language_info": {
   "codemirror_mode": {
    "name": "ipython",
    "version": 3
   },
   "file_extension": ".py",
   "mimetype": "text/x-python",
   "name": "python",
   "nbconvert_exporter": "python",
   "pygments_lexer": "ipython3",
   "version": "3.8.8"
  }
 },
 "nbformat": 4,
 "nbformat_minor": 5
}
